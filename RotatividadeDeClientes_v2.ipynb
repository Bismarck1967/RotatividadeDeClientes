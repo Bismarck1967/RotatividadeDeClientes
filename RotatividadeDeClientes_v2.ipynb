{
 "cells": [
  {
   "cell_type": "code",
   "execution_count": 2,
   "metadata": {},
   "outputs": [],
   "source": [
    "import pandas as pd\n",
    "import numpy as np\n",
    "import matplotlib.pyplot as plt  \n",
    "from sklearn.ensemble import RandomForestClassifier\n",
    "from sklearn.model_selection import train_test_split\n",
    "from pandas import read_csv\n",
    "from sklearn.preprocessing import MinMaxScaler\n",
    "import time\n",
    "from scipy.stats import norm\n",
    "from sklearn.ensemble import RandomForestClassifier\n",
    "from sklearn.feature_selection import f_classif, mutual_info_classif, SelectKBest\n",
    "from sklearn.linear_model import LinearRegression\n",
    "import statsmodels.api as sm\n",
    "from pandas import read_csv\n",
    "from sklearn.model_selection import KFold\n",
    "from sklearn.linear_model import LogisticRegression\n",
    "from sklearn.tree import DecisionTreeClassifier\n",
    "from sklearn.neighbors import KNeighborsClassifier\n",
    "from sklearn.discriminant_analysis import LinearDiscriminantAnalysis\n",
    "from sklearn.naive_bayes import GaussianNB\n",
    "from sklearn.svm import SVC\n",
    "from sklearn.ensemble import RandomForestClassifier,AdaBoostClassifier, GradientBoostingClassifier, ExtraTreesClassifier\n",
    "from sklearn.model_selection import cross_val_score\n",
    "import xgboost as xgb\n",
    "from xgboost import XGBClassifier\n",
    "import statsmodels.formula.api as smf\n",
    "from sklearn.preprocessing import QuantileTransformer\n",
    "from sklearn.feature_selection import SelectPercentile, chi2\n",
    "import seaborn as sns\n",
    "from sklearn.metrics import brier_score_loss\n",
    "from sklearn.metrics import precision_score\n",
    "from sklearn.metrics import recall_score, f1_score\n",
    "from sklearn import datasets, metrics, model_selection, svm\n",
    "import matplotlib.pyplot as plt  # doctest: +SKIP\n",
    "import seaborn as sns\n",
    "import matplotlib.pyplot as plt     \n",
    "from sklearn.metrics import confusion_matrix\n",
    "import pylab as pl\n",
    "import itertools\n",
    "from sklearn.metrics import classification_report\n",
    "\n",
    "warnings.filterwarnings(\"ignore\")\n",
    "%matplotlib inline"
   ]
  },
  {
   "cell_type": "markdown",
   "metadata": {},
   "source": [
    "# Captura dos dados"
   ]
  },
  {
   "cell_type": "code",
   "execution_count": 83,
   "metadata": {},
   "outputs": [],
   "source": [
    "colunas = [\"ID\",\n",
    "           \"estado\", \n",
    "           \"tempo_conta\", \n",
    "           \"cod_area\", \n",
    "           \"plano_int\", \n",
    "           \"plano_voz_email\", \n",
    "           \"qtd_msg_vmail\", \n",
    "           \"qtd_dias_min\", \n",
    "           \"qtd_dias_lig\", \n",
    "           \"custo_dia\",\n",
    "           \"qtd_vesp_min\",\n",
    "           \"qtd_vesp_lig\",\n",
    "           \"custo_vesp\",\n",
    "           \"qtd_min_noite\",\n",
    "           \"qtd_lig_noite\",\n",
    "           \"custo_noite\",\n",
    "           \"minutos_total\",\n",
    "           \"lig_total\",\n",
    "           \"custo_total\",\n",
    "           \"lig_call_center\",\n",
    "           \"target\"]\n",
    "\n",
    "treino = pd.read_csv(\"./Dados/projeto4_telecom_treino.csv\", names = colunas, header=0 )\n",
    "teste = pd.read_csv(\"./Dados/projeto4_telecom_teste.csv\", names = colunas, header=0)"
   ]
  },
  {
   "cell_type": "code",
   "execution_count": 84,
   "metadata": {},
   "outputs": [
    {
     "data": {
      "text/html": [
       "<div>\n",
       "<style scoped>\n",
       "    .dataframe tbody tr th:only-of-type {\n",
       "        vertical-align: middle;\n",
       "    }\n",
       "\n",
       "    .dataframe tbody tr th {\n",
       "        vertical-align: top;\n",
       "    }\n",
       "\n",
       "    .dataframe thead th {\n",
       "        text-align: right;\n",
       "    }\n",
       "</style>\n",
       "<table border=\"1\" class=\"dataframe\">\n",
       "  <thead>\n",
       "    <tr style=\"text-align: right;\">\n",
       "      <th></th>\n",
       "      <th>ID</th>\n",
       "      <th>estado</th>\n",
       "      <th>tempo_conta</th>\n",
       "      <th>cod_area</th>\n",
       "      <th>plano_int</th>\n",
       "      <th>plano_voz_email</th>\n",
       "      <th>qtd_msg_vmail</th>\n",
       "      <th>qtd_dias_min</th>\n",
       "      <th>qtd_dias_lig</th>\n",
       "      <th>custo_dia</th>\n",
       "      <th>...</th>\n",
       "      <th>qtd_vesp_lig</th>\n",
       "      <th>custo_vesp</th>\n",
       "      <th>qtd_min_noite</th>\n",
       "      <th>qtd_lig_noite</th>\n",
       "      <th>custo_noite</th>\n",
       "      <th>minutos_total</th>\n",
       "      <th>lig_total</th>\n",
       "      <th>custo_total</th>\n",
       "      <th>lig_call_center</th>\n",
       "      <th>target</th>\n",
       "    </tr>\n",
       "  </thead>\n",
       "  <tbody>\n",
       "    <tr>\n",
       "      <th>0</th>\n",
       "      <td>1</td>\n",
       "      <td>HI</td>\n",
       "      <td>101</td>\n",
       "      <td>area_code_510</td>\n",
       "      <td>no</td>\n",
       "      <td>no</td>\n",
       "      <td>0</td>\n",
       "      <td>70.9</td>\n",
       "      <td>123</td>\n",
       "      <td>12.05</td>\n",
       "      <td>...</td>\n",
       "      <td>73</td>\n",
       "      <td>18.01</td>\n",
       "      <td>236.0</td>\n",
       "      <td>73</td>\n",
       "      <td>10.62</td>\n",
       "      <td>10.6</td>\n",
       "      <td>3</td>\n",
       "      <td>2.86</td>\n",
       "      <td>3</td>\n",
       "      <td>no</td>\n",
       "    </tr>\n",
       "    <tr>\n",
       "      <th>1</th>\n",
       "      <td>2</td>\n",
       "      <td>MT</td>\n",
       "      <td>137</td>\n",
       "      <td>area_code_510</td>\n",
       "      <td>no</td>\n",
       "      <td>no</td>\n",
       "      <td>0</td>\n",
       "      <td>223.6</td>\n",
       "      <td>86</td>\n",
       "      <td>38.01</td>\n",
       "      <td>...</td>\n",
       "      <td>139</td>\n",
       "      <td>20.81</td>\n",
       "      <td>94.2</td>\n",
       "      <td>81</td>\n",
       "      <td>4.24</td>\n",
       "      <td>9.5</td>\n",
       "      <td>7</td>\n",
       "      <td>2.57</td>\n",
       "      <td>0</td>\n",
       "      <td>no</td>\n",
       "    </tr>\n",
       "    <tr>\n",
       "      <th>2</th>\n",
       "      <td>3</td>\n",
       "      <td>OH</td>\n",
       "      <td>103</td>\n",
       "      <td>area_code_408</td>\n",
       "      <td>no</td>\n",
       "      <td>yes</td>\n",
       "      <td>29</td>\n",
       "      <td>294.7</td>\n",
       "      <td>95</td>\n",
       "      <td>50.10</td>\n",
       "      <td>...</td>\n",
       "      <td>105</td>\n",
       "      <td>20.17</td>\n",
       "      <td>300.3</td>\n",
       "      <td>127</td>\n",
       "      <td>13.51</td>\n",
       "      <td>13.7</td>\n",
       "      <td>6</td>\n",
       "      <td>3.70</td>\n",
       "      <td>1</td>\n",
       "      <td>no</td>\n",
       "    </tr>\n",
       "    <tr>\n",
       "      <th>3</th>\n",
       "      <td>4</td>\n",
       "      <td>NM</td>\n",
       "      <td>99</td>\n",
       "      <td>area_code_415</td>\n",
       "      <td>no</td>\n",
       "      <td>no</td>\n",
       "      <td>0</td>\n",
       "      <td>216.8</td>\n",
       "      <td>123</td>\n",
       "      <td>36.86</td>\n",
       "      <td>...</td>\n",
       "      <td>88</td>\n",
       "      <td>10.74</td>\n",
       "      <td>220.6</td>\n",
       "      <td>82</td>\n",
       "      <td>9.93</td>\n",
       "      <td>15.7</td>\n",
       "      <td>2</td>\n",
       "      <td>4.24</td>\n",
       "      <td>1</td>\n",
       "      <td>no</td>\n",
       "    </tr>\n",
       "    <tr>\n",
       "      <th>4</th>\n",
       "      <td>5</td>\n",
       "      <td>SC</td>\n",
       "      <td>108</td>\n",
       "      <td>area_code_415</td>\n",
       "      <td>no</td>\n",
       "      <td>no</td>\n",
       "      <td>0</td>\n",
       "      <td>197.4</td>\n",
       "      <td>78</td>\n",
       "      <td>33.56</td>\n",
       "      <td>...</td>\n",
       "      <td>101</td>\n",
       "      <td>10.54</td>\n",
       "      <td>204.5</td>\n",
       "      <td>107</td>\n",
       "      <td>9.20</td>\n",
       "      <td>7.7</td>\n",
       "      <td>4</td>\n",
       "      <td>2.08</td>\n",
       "      <td>2</td>\n",
       "      <td>no</td>\n",
       "    </tr>\n",
       "    <tr>\n",
       "      <th>...</th>\n",
       "      <td>...</td>\n",
       "      <td>...</td>\n",
       "      <td>...</td>\n",
       "      <td>...</td>\n",
       "      <td>...</td>\n",
       "      <td>...</td>\n",
       "      <td>...</td>\n",
       "      <td>...</td>\n",
       "      <td>...</td>\n",
       "      <td>...</td>\n",
       "      <td>...</td>\n",
       "      <td>...</td>\n",
       "      <td>...</td>\n",
       "      <td>...</td>\n",
       "      <td>...</td>\n",
       "      <td>...</td>\n",
       "      <td>...</td>\n",
       "      <td>...</td>\n",
       "      <td>...</td>\n",
       "      <td>...</td>\n",
       "      <td>...</td>\n",
       "    </tr>\n",
       "    <tr>\n",
       "      <th>1662</th>\n",
       "      <td>1663</td>\n",
       "      <td>HI</td>\n",
       "      <td>50</td>\n",
       "      <td>area_code_408</td>\n",
       "      <td>no</td>\n",
       "      <td>yes</td>\n",
       "      <td>40</td>\n",
       "      <td>235.7</td>\n",
       "      <td>127</td>\n",
       "      <td>40.07</td>\n",
       "      <td>...</td>\n",
       "      <td>126</td>\n",
       "      <td>18.96</td>\n",
       "      <td>297.5</td>\n",
       "      <td>116</td>\n",
       "      <td>13.39</td>\n",
       "      <td>9.9</td>\n",
       "      <td>5</td>\n",
       "      <td>2.67</td>\n",
       "      <td>2</td>\n",
       "      <td>no</td>\n",
       "    </tr>\n",
       "    <tr>\n",
       "      <th>1663</th>\n",
       "      <td>1664</td>\n",
       "      <td>WV</td>\n",
       "      <td>152</td>\n",
       "      <td>area_code_415</td>\n",
       "      <td>no</td>\n",
       "      <td>no</td>\n",
       "      <td>0</td>\n",
       "      <td>184.2</td>\n",
       "      <td>90</td>\n",
       "      <td>31.31</td>\n",
       "      <td>...</td>\n",
       "      <td>73</td>\n",
       "      <td>21.83</td>\n",
       "      <td>213.6</td>\n",
       "      <td>113</td>\n",
       "      <td>9.61</td>\n",
       "      <td>14.7</td>\n",
       "      <td>2</td>\n",
       "      <td>3.97</td>\n",
       "      <td>3</td>\n",
       "      <td>yes</td>\n",
       "    </tr>\n",
       "    <tr>\n",
       "      <th>1664</th>\n",
       "      <td>1665</td>\n",
       "      <td>DC</td>\n",
       "      <td>61</td>\n",
       "      <td>area_code_415</td>\n",
       "      <td>no</td>\n",
       "      <td>no</td>\n",
       "      <td>0</td>\n",
       "      <td>140.6</td>\n",
       "      <td>89</td>\n",
       "      <td>23.90</td>\n",
       "      <td>...</td>\n",
       "      <td>128</td>\n",
       "      <td>14.69</td>\n",
       "      <td>212.4</td>\n",
       "      <td>97</td>\n",
       "      <td>9.56</td>\n",
       "      <td>13.6</td>\n",
       "      <td>4</td>\n",
       "      <td>3.67</td>\n",
       "      <td>1</td>\n",
       "      <td>no</td>\n",
       "    </tr>\n",
       "    <tr>\n",
       "      <th>1665</th>\n",
       "      <td>1666</td>\n",
       "      <td>DC</td>\n",
       "      <td>109</td>\n",
       "      <td>area_code_510</td>\n",
       "      <td>no</td>\n",
       "      <td>no</td>\n",
       "      <td>0</td>\n",
       "      <td>188.8</td>\n",
       "      <td>67</td>\n",
       "      <td>32.10</td>\n",
       "      <td>...</td>\n",
       "      <td>92</td>\n",
       "      <td>14.59</td>\n",
       "      <td>224.4</td>\n",
       "      <td>89</td>\n",
       "      <td>10.10</td>\n",
       "      <td>8.5</td>\n",
       "      <td>6</td>\n",
       "      <td>2.30</td>\n",
       "      <td>0</td>\n",
       "      <td>no</td>\n",
       "    </tr>\n",
       "    <tr>\n",
       "      <th>1666</th>\n",
       "      <td>1667</td>\n",
       "      <td>VT</td>\n",
       "      <td>86</td>\n",
       "      <td>area_code_415</td>\n",
       "      <td>no</td>\n",
       "      <td>yes</td>\n",
       "      <td>34</td>\n",
       "      <td>129.4</td>\n",
       "      <td>102</td>\n",
       "      <td>22.00</td>\n",
       "      <td>...</td>\n",
       "      <td>104</td>\n",
       "      <td>22.70</td>\n",
       "      <td>154.8</td>\n",
       "      <td>100</td>\n",
       "      <td>6.97</td>\n",
       "      <td>9.3</td>\n",
       "      <td>16</td>\n",
       "      <td>2.51</td>\n",
       "      <td>0</td>\n",
       "      <td>no</td>\n",
       "    </tr>\n",
       "  </tbody>\n",
       "</table>\n",
       "<p>1667 rows × 21 columns</p>\n",
       "</div>"
      ],
      "text/plain": [
       "        ID estado  tempo_conta       cod_area plano_int plano_voz_email  \\\n",
       "0        1     HI          101  area_code_510        no              no   \n",
       "1        2     MT          137  area_code_510        no              no   \n",
       "2        3     OH          103  area_code_408        no             yes   \n",
       "3        4     NM           99  area_code_415        no              no   \n",
       "4        5     SC          108  area_code_415        no              no   \n",
       "...    ...    ...          ...            ...       ...             ...   \n",
       "1662  1663     HI           50  area_code_408        no             yes   \n",
       "1663  1664     WV          152  area_code_415        no              no   \n",
       "1664  1665     DC           61  area_code_415        no              no   \n",
       "1665  1666     DC          109  area_code_510        no              no   \n",
       "1666  1667     VT           86  area_code_415        no             yes   \n",
       "\n",
       "      qtd_msg_vmail  qtd_dias_min  qtd_dias_lig  custo_dia  ...  qtd_vesp_lig  \\\n",
       "0                 0          70.9           123      12.05  ...            73   \n",
       "1                 0         223.6            86      38.01  ...           139   \n",
       "2                29         294.7            95      50.10  ...           105   \n",
       "3                 0         216.8           123      36.86  ...            88   \n",
       "4                 0         197.4            78      33.56  ...           101   \n",
       "...             ...           ...           ...        ...  ...           ...   \n",
       "1662             40         235.7           127      40.07  ...           126   \n",
       "1663              0         184.2            90      31.31  ...            73   \n",
       "1664              0         140.6            89      23.90  ...           128   \n",
       "1665              0         188.8            67      32.10  ...            92   \n",
       "1666             34         129.4           102      22.00  ...           104   \n",
       "\n",
       "      custo_vesp  qtd_min_noite  qtd_lig_noite  custo_noite  minutos_total  \\\n",
       "0          18.01          236.0             73        10.62           10.6   \n",
       "1          20.81           94.2             81         4.24            9.5   \n",
       "2          20.17          300.3            127        13.51           13.7   \n",
       "3          10.74          220.6             82         9.93           15.7   \n",
       "4          10.54          204.5            107         9.20            7.7   \n",
       "...          ...            ...            ...          ...            ...   \n",
       "1662       18.96          297.5            116        13.39            9.9   \n",
       "1663       21.83          213.6            113         9.61           14.7   \n",
       "1664       14.69          212.4             97         9.56           13.6   \n",
       "1665       14.59          224.4             89        10.10            8.5   \n",
       "1666       22.70          154.8            100         6.97            9.3   \n",
       "\n",
       "      lig_total  custo_total  lig_call_center  target  \n",
       "0             3         2.86                3      no  \n",
       "1             7         2.57                0      no  \n",
       "2             6         3.70                1      no  \n",
       "3             2         4.24                1      no  \n",
       "4             4         2.08                2      no  \n",
       "...         ...          ...              ...     ...  \n",
       "1662          5         2.67                2      no  \n",
       "1663          2         3.97                3     yes  \n",
       "1664          4         3.67                1      no  \n",
       "1665          6         2.30                0      no  \n",
       "1666         16         2.51                0      no  \n",
       "\n",
       "[1667 rows x 21 columns]"
      ]
     },
     "execution_count": 84,
     "metadata": {},
     "output_type": "execute_result"
    }
   ],
   "source": [
    "teste\n"
   ]
  },
  {
   "cell_type": "markdown",
   "metadata": {},
   "source": [
    "# Funções "
   ]
  },
  {
   "cell_type": "code",
   "execution_count": 88,
   "metadata": {},
   "outputs": [],
   "source": [
    "def mudacategoria(dataframe):\n",
    "    dataframe[\"target\"] = [1 if x == \"yes\" else 0 for x in dataframe[\"target\"]]\n",
    "    dataframe[\"plano_int\"] = [1 if x == \"yes\" else 0 for x in dataframe[\"plano_int\"]]\n",
    "    dataframe[\"plano_voz_email\"] = [1 if x == \"yes\" else 0 for x in dataframe[\"plano_voz_email\"]]\n",
    "    dataframe[\"cod_area\"] = [0 if x == \"area_code_408\" else 1 if x == \"area_code_415\" else 2 for x in dataframe[\"cod_area\"]]\n",
    "    return"
   ]
  },
  {
   "cell_type": "code",
   "execution_count": 5,
   "metadata": {},
   "outputs": [],
   "source": [
    "def Relacao_var(variavel, target):\n",
    "    VlrRel = treino[target].corr(treino[variavel])\n",
    "    listvlr.append([variavel, VlrRel])\n",
    "    return"
   ]
  },
  {
   "cell_type": "code",
   "execution_count": 94,
   "metadata": {},
   "outputs": [],
   "source": [
    "def avaliamodelo(X1, y1):\n",
    "    num_folds = 10\n",
    "    seed = 7\n",
    "\n",
    "# Preparando a lista de modelos\n",
    "    modelos = []\n",
    "    modelos.append(('LR', LogisticRegression()))\n",
    "    modelos.append(('LDA', LinearDiscriminantAnalysis()))\n",
    "    modelos.append(('NB', GaussianNB()))\n",
    "    modelos.append(('KNN', KNeighborsClassifier()))\n",
    "    modelos.append(('CART', DecisionTreeClassifier()))\n",
    "    modelos.append(('SVM', SVC()))\n",
    "    modelos.append(('ADA', AdaBoostClassifier()))\n",
    "    modelos.append(('GBM', GradientBoostingClassifier()))\n",
    "    modelos.append(('RF', RandomForestClassifier()))\n",
    "    modelos.append(('XGB', XGBClassifier()))\n",
    "\n",
    "# Avaliando cada modelo em um loop\n",
    "    resultados = []\n",
    "    nomes = []\n",
    "\n",
    "    for nome, modelo in modelos:\n",
    "        kfold = KFold(n_splits = num_folds, random_state = seed)\n",
    "        cv_results = cross_val_score(modelo, X1, y1, cv = kfold, scoring = 'accuracy')\n",
    "        resultados.append(cv_results.mean())\n",
    "        nomes.append(nome)\n",
    "        msg = \"%s: %f (%f)\" % (nome, cv_results.mean(), cv_results.std())\n",
    "        print(msg)\n",
    "    return(nomes, resultados)"
   ]
  },
  {
   "cell_type": "code",
   "execution_count": 43,
   "metadata": {},
   "outputs": [],
   "source": [
    "# Escalar as variaveis e verficar o modelo  \n",
    "def imputaScala(nrlinha, dados, dataframe):\n",
    "    dataframe.loc[[nrlinha], colunaScala] = dados\n",
    "    return"
   ]
  },
  {
   "cell_type": "code",
   "execution_count": 8,
   "metadata": {},
   "outputs": [],
   "source": [
    "def imputaSelecao(campo, dados, linha):\n",
    "    global df_selecao\n",
    "    df_selecao[campo][linha] = dados\n",
    "    return"
   ]
  },
  {
   "cell_type": "code",
   "execution_count": 96,
   "metadata": {},
   "outputs": [],
   "source": [
    "def avaliaModeloLR(X_train, X_test, y_train, y_test):\n",
    "    clf = LogisticRegression(penalty=\"l2\")\n",
    "    parametros = clf.get_params()\n",
    "    name = \"LogisticRegression\"\n",
    "    clf.fit(X_train, y_train)\n",
    "    y_pred = clf.predict(X_test)\n",
    "    prob_pos = clf.predict_proba(X_test)\n",
    "\n",
    "    prob_pos1 = prob_pos[:,1]\n",
    "    clf_score = brier_score_loss(y_test, prob_pos1, pos_label=1)\n",
    "\n",
    "    print(\"%s:\" % name)\n",
    "    print(\"\\tBrier: %1.3f\" % (clf_score))\n",
    "    print(\"\\tPrecision: %1.3f\" % precision_score(y_test, y_pred))\n",
    "    print(\"\\tRecall: %1.3f\" % recall_score(y_test, y_pred))\n",
    "    print(\"\\tF1: %1.3f\\n\" % f1_score(y_test, y_pred))\n",
    "    return([y_pred, prob_pos])"
   ]
  },
  {
   "cell_type": "code",
   "execution_count": 70,
   "metadata": {},
   "outputs": [],
   "source": [
    "def MatrixConfusiion(y_test, y_pred):\n",
    "    normalize = False\n",
    "    cm  = confusion_matrix(y_test, y_pred)\n",
    "    pl.figure(figsize=(6, 4))\n",
    "    cm = cm.astype('float') / cm.sum(axis=1)[:, np.newaxis]\n",
    "    thresh = cm.max() / 1.5 if normalize else cm.max() / 2\n",
    "\n",
    "    ax= plt.subplot()\n",
    "    sns.heatmap(cm, annot=True, ax = ax); #annot=True to annotate cells\n",
    "\n",
    "    # labels, title and ticks\n",
    "    ax.set_xlabel('Predicted labels');ax.set_ylabel('True labels'); \n",
    "    ax.set_title('Confusion Matrix'); \n",
    "    ax.xaxis.set_ticklabels(['NO', 'YES']); ax.yaxis.set_ticklabels(['NO', 'YES']);\n",
    "    print(classification_report(y_test, y_pred, target_names= [\"NO\", \"YES\"]))\n",
    "    return"
   ]
  },
  {
   "cell_type": "code",
   "execution_count": 11,
   "metadata": {},
   "outputs": [],
   "source": [
    "# over-sampling\n",
    "\n",
    "def oversamplig (dataframe):\n",
    "    # CONTAR CLASSES\n",
    "    count_class_00, count_class_01 = dataframe.target.value_counts()\n",
    "\n",
    "    # Divide by class\n",
    "    df_class_00 = dataframe[dataframe['target'] == 0]\n",
    "    df_class_01 = dataframe[dataframe['target'] == 1]\n",
    "\n",
    "    df_class_1_over = df_class_01.sample(count_class_00, replace= True)\n",
    "    df_treino_over = pd.concat([df_class_00, df_class_1_over], axis=0)\n",
    "    df_treino_over = df_treino_over.reset_index(drop=True)\n",
    "    print('Random over-sampling:')\n",
    "    print(df_treino_over.target.value_counts())\n",
    "    df_treino_over.target.value_counts().plot(kind='bar', title='Count (TARGET)' ,color = ['#1F77B4', '#FF7F0E']);\n",
    "    return(df_treino_over)"
   ]
  },
  {
   "cell_type": "code",
   "execution_count": 12,
   "metadata": {},
   "outputs": [],
   "source": [
    "def VerTarget(dataframe):\n",
    "    target_count = dataframe.target.value_counts()\n",
    "    print('Class 0:', target_count[0])\n",
    "    print('Class 1:', target_count[1])\n",
    "    print('Proportion:', round(target_count[0] / target_count[1], 2), ': 1')\n",
    "    target_count.plot(kind='bar', title='Count (TARGET)',color = ['#1F77B4', '#FF7F0E']);"
   ]
  },
  {
   "cell_type": "code",
   "execution_count": 13,
   "metadata": {},
   "outputs": [],
   "source": [
    "def ScalaVariaveis(dataframe):\n",
    "\n",
    "    selectCol = dataframe.loc[:, colunaScala]\n",
    "\n",
    "    scaler = QuantileTransformer()\n",
    "    colScala = scaler.fit_transform(selectCol)\n",
    "    return(colScala)"
   ]
  },
  {
   "cell_type": "markdown",
   "metadata": {},
   "source": [
    "# Define as Variáveis"
   ]
  },
  {
   "cell_type": "code",
   "execution_count": 46,
   "metadata": {},
   "outputs": [],
   "source": [
    "colunaScala = [\"tempo_conta\",\n",
    "               \"qtd_msg_vmail\", \n",
    "               \"qtd_dias_min\",\n",
    "               \"qtd_dias_lig\", \n",
    "               \"qtd_vesp_min\", \n",
    "               \"qtd_vesp_lig\", \n",
    "               \"qtd_min_noite\", \n",
    "               \"qtd_lig_noite\", \n",
    "               \"minutos_total\", \n",
    "               \"lig_total\", \n",
    "               \"lig_call_center\" ]\n"
   ]
  },
  {
   "cell_type": "markdown",
   "metadata": {},
   "source": [
    "#  DataFrame"
   ]
  },
  {
   "cell_type": "code",
   "execution_count": null,
   "metadata": {},
   "outputs": [],
   "source": [
    "treino"
   ]
  },
  {
   "cell_type": "markdown",
   "metadata": {},
   "source": [
    "# Análise das Variáveis "
   ]
  },
  {
   "cell_type": "code",
   "execution_count": null,
   "metadata": {},
   "outputs": [],
   "source": [
    "treino.info()"
   ]
  },
  {
   "cell_type": "code",
   "execution_count": null,
   "metadata": {},
   "outputs": [],
   "source": [
    "# Quantitativas\n",
    "    # Discretas - 7\n",
    "    # Continuas - 6\n",
    "    # ID - 1\n",
    "    # Binaria - 3 com a Target\n",
    "\n",
    "# Qualitativas\n",
    "    # Normais - 2\n",
    "    # Ordinais- 1"
   ]
  },
  {
   "cell_type": "markdown",
   "metadata": {},
   "source": [
    "# Retirando a ID - Irrelevante para o nosso modelo"
   ]
  },
  {
   "cell_type": "code",
   "execution_count": 14,
   "metadata": {},
   "outputs": [],
   "source": [
    "treino.drop([\"ID\"], axis=1, inplace=True)"
   ]
  },
  {
   "cell_type": "markdown",
   "metadata": {},
   "source": [
    "# Análise das Variáveis"
   ]
  },
  {
   "cell_type": "code",
   "execution_count": 15,
   "metadata": {},
   "outputs": [
    {
     "data": {
      "text/plain": [
       "plano_int\n",
       "no     303234\n",
       "yes     33615\n",
       "Name: tempo_conta, dtype: int64"
      ]
     },
     "execution_count": 15,
     "metadata": {},
     "output_type": "execute_result"
    }
   ],
   "source": [
    "treino.groupby(['plano_int'])['tempo_conta'].sum()"
   ]
  },
  {
   "cell_type": "code",
   "execution_count": 16,
   "metadata": {},
   "outputs": [
    {
     "data": {
      "text/plain": [
       "plano_int\n",
       "no     3010\n",
       "yes     323\n",
       "Name: plano_int, dtype: int64"
      ]
     },
     "execution_count": 16,
     "metadata": {},
     "output_type": "execute_result"
    }
   ],
   "source": [
    "treino.groupby(['plano_int'])['plano_int'].count()"
   ]
  },
  {
   "cell_type": "code",
   "execution_count": 17,
   "metadata": {},
   "outputs": [
    {
     "data": {
      "text/plain": [
       "lig_call_center\n",
       "0     70608\n",
       "1    120202\n",
       "2     75312\n",
       "3     43515\n",
       "4     17042\n",
       "5      6769\n",
       "6      1984\n",
       "7      1045\n",
       "8       167\n",
       "9       205\n",
       "Name: tempo_conta, dtype: int64"
      ]
     },
     "execution_count": 17,
     "metadata": {},
     "output_type": "execute_result"
    }
   ],
   "source": [
    "treino.groupby(['lig_call_center'])['tempo_conta'].sum()"
   ]
  },
  {
   "cell_type": "code",
   "execution_count": 18,
   "metadata": {},
   "outputs": [
    {
     "data": {
      "text/plain": [
       "cod_area\n",
       "area_code_408    1273\n",
       "area_code_415    2572\n",
       "area_code_510    1364\n",
       "Name: lig_call_center, dtype: int64"
      ]
     },
     "execution_count": 18,
     "metadata": {},
     "output_type": "execute_result"
    }
   ],
   "source": [
    "treino.groupby(['cod_area'])['lig_call_center'].sum()"
   ]
  },
  {
   "cell_type": "code",
   "execution_count": 19,
   "metadata": {},
   "outputs": [
    {
     "data": {
      "text/plain": [
       "cod_area\n",
       "area_code_408    3709\n",
       "area_code_415    7550\n",
       "area_code_510    3671\n",
       "Name: lig_total, dtype: int64"
      ]
     },
     "execution_count": 19,
     "metadata": {},
     "output_type": "execute_result"
    }
   ],
   "source": [
    "treino.groupby(['cod_area'])['lig_total'].sum()"
   ]
  },
  {
   "cell_type": "code",
   "execution_count": 20,
   "metadata": {},
   "outputs": [
    {
     "data": {
      "text/html": [
       "<div>\n",
       "<style scoped>\n",
       "    .dataframe tbody tr th:only-of-type {\n",
       "        vertical-align: middle;\n",
       "    }\n",
       "\n",
       "    .dataframe tbody tr th {\n",
       "        vertical-align: top;\n",
       "    }\n",
       "\n",
       "    .dataframe thead th {\n",
       "        text-align: right;\n",
       "    }\n",
       "</style>\n",
       "<table border=\"1\" class=\"dataframe\">\n",
       "  <thead>\n",
       "    <tr style=\"text-align: right;\">\n",
       "      <th></th>\n",
       "      <th>qtd_dias_min</th>\n",
       "      <th>qtd_min_noite</th>\n",
       "    </tr>\n",
       "    <tr>\n",
       "      <th>cod_area</th>\n",
       "      <th></th>\n",
       "      <th></th>\n",
       "    </tr>\n",
       "  </thead>\n",
       "  <tbody>\n",
       "    <tr>\n",
       "      <th>area_code_408</th>\n",
       "      <td>148473.0</td>\n",
       "      <td>166941.9</td>\n",
       "    </tr>\n",
       "    <tr>\n",
       "      <th>area_code_415</th>\n",
       "      <td>300535.8</td>\n",
       "      <td>334372.2</td>\n",
       "    </tr>\n",
       "    <tr>\n",
       "      <th>area_code_510</th>\n",
       "      <td>150181.6</td>\n",
       "      <td>168192.4</td>\n",
       "    </tr>\n",
       "  </tbody>\n",
       "</table>\n",
       "</div>"
      ],
      "text/plain": [
       "               qtd_dias_min  qtd_min_noite\n",
       "cod_area                                  \n",
       "area_code_408      148473.0       166941.9\n",
       "area_code_415      300535.8       334372.2\n",
       "area_code_510      150181.6       168192.4"
      ]
     },
     "execution_count": 20,
     "metadata": {},
     "output_type": "execute_result"
    }
   ],
   "source": [
    "treino.groupby(['cod_area'])['qtd_dias_min', 'qtd_min_noite' ].sum()"
   ]
  },
  {
   "cell_type": "code",
   "execution_count": 21,
   "metadata": {},
   "outputs": [
    {
     "data": {
      "text/html": [
       "<div>\n",
       "<style scoped>\n",
       "    .dataframe tbody tr th:only-of-type {\n",
       "        vertical-align: middle;\n",
       "    }\n",
       "\n",
       "    .dataframe tbody tr th {\n",
       "        vertical-align: top;\n",
       "    }\n",
       "\n",
       "    .dataframe thead th {\n",
       "        text-align: right;\n",
       "    }\n",
       "</style>\n",
       "<table border=\"1\" class=\"dataframe\">\n",
       "  <thead>\n",
       "    <tr style=\"text-align: right;\">\n",
       "      <th></th>\n",
       "      <th>qtd_dias_lig</th>\n",
       "      <th>qtd_lig_noite</th>\n",
       "    </tr>\n",
       "    <tr>\n",
       "      <th>cod_area</th>\n",
       "      <th></th>\n",
       "      <th></th>\n",
       "    </tr>\n",
       "  </thead>\n",
       "  <tbody>\n",
       "    <tr>\n",
       "      <th>area_code_408</th>\n",
       "      <td>84216</td>\n",
       "      <td>82995</td>\n",
       "    </tr>\n",
       "    <tr>\n",
       "      <th>area_code_415</th>\n",
       "      <td>166454</td>\n",
       "      <td>166159</td>\n",
       "    </tr>\n",
       "    <tr>\n",
       "      <th>area_code_510</th>\n",
       "      <td>84082</td>\n",
       "      <td>84505</td>\n",
       "    </tr>\n",
       "  </tbody>\n",
       "</table>\n",
       "</div>"
      ],
      "text/plain": [
       "               qtd_dias_lig  qtd_lig_noite\n",
       "cod_area                                  \n",
       "area_code_408         84216          82995\n",
       "area_code_415        166454         166159\n",
       "area_code_510         84082          84505"
      ]
     },
     "execution_count": 21,
     "metadata": {},
     "output_type": "execute_result"
    }
   ],
   "source": [
    "treino.groupby(['cod_area'])['qtd_dias_lig', 'qtd_lig_noite' ].sum()"
   ]
  },
  {
   "cell_type": "code",
   "execution_count": 22,
   "metadata": {},
   "outputs": [
    {
     "data": {
      "text/html": [
       "<div>\n",
       "<style scoped>\n",
       "    .dataframe tbody tr th:only-of-type {\n",
       "        vertical-align: middle;\n",
       "    }\n",
       "\n",
       "    .dataframe tbody tr th {\n",
       "        vertical-align: top;\n",
       "    }\n",
       "\n",
       "    .dataframe thead th {\n",
       "        text-align: right;\n",
       "    }\n",
       "</style>\n",
       "<table border=\"1\" class=\"dataframe\">\n",
       "  <thead>\n",
       "    <tr style=\"text-align: right;\">\n",
       "      <th></th>\n",
       "      <th>custo_dia</th>\n",
       "      <th>custo_noite</th>\n",
       "    </tr>\n",
       "    <tr>\n",
       "      <th>cod_area</th>\n",
       "      <th></th>\n",
       "      <th></th>\n",
       "    </tr>\n",
       "  </thead>\n",
       "  <tbody>\n",
       "    <tr>\n",
       "      <th>area_code_408</th>\n",
       "      <td>25240.79</td>\n",
       "      <td>7512.49</td>\n",
       "    </tr>\n",
       "    <tr>\n",
       "      <th>area_code_415</th>\n",
       "      <td>51092.06</td>\n",
       "      <td>15046.92</td>\n",
       "    </tr>\n",
       "    <tr>\n",
       "      <th>area_code_510</th>\n",
       "      <td>25531.32</td>\n",
       "      <td>7568.66</td>\n",
       "    </tr>\n",
       "  </tbody>\n",
       "</table>\n",
       "</div>"
      ],
      "text/plain": [
       "               custo_dia  custo_noite\n",
       "cod_area                             \n",
       "area_code_408   25240.79      7512.49\n",
       "area_code_415   51092.06     15046.92\n",
       "area_code_510   25531.32      7568.66"
      ]
     },
     "execution_count": 22,
     "metadata": {},
     "output_type": "execute_result"
    }
   ],
   "source": [
    "treino.groupby(['cod_area'])['custo_dia', 'custo_noite' ].sum()"
   ]
  },
  {
   "cell_type": "code",
   "execution_count": null,
   "metadata": {},
   "outputs": [],
   "source": [
    "# a maioria das ligasções ao CallCenter partiram da área 1 - area_code_415.\n",
    "# Tatal de ligações desta área é maior. não tem como saber se existe relação, teriamos que saber os motivos das reclamações\n",
    "# Um fato interessante que as quantidades de dia e de noite são aproximadamente iguais, mas, \n",
    "# as pessoas falam mais tempo ao telefone no período noturno, a explicação que eu cheguei que a taxa por minuto diurno é mais barata\n",
    "# Uma tendencia: Quanto maior o numero de ligação ao call center menor o tempo de conta "
   ]
  },
  {
   "cell_type": "code",
   "execution_count": 23,
   "metadata": {},
   "outputs": [
    {
     "data": {
      "text/plain": [
       "<matplotlib.axes._subplots.AxesSubplot at 0x19bf5cf5448>"
      ]
     },
     "execution_count": 23,
     "metadata": {},
     "output_type": "execute_result"
    },
    {
     "data": {
      "image/png": "[encoded data removed]",
      "text/plain": [
       "<Figure size 432x216 with 1 Axes>"
      ]
     },
     "metadata": {
      "needs_background": "light"
     },
     "output_type": "display_data"
    }
   ],
   "source": [
    "treino.plot.density(y='lig_call_center',xlim=[0,6],figsize=[6,3])"
   ]
  },
  {
   "cell_type": "code",
   "execution_count": null,
   "metadata": {},
   "outputs": [],
   "source": [
    "# Grande maioria fez pelo menos uma ou duas ligações ao call center, grande parte não fizeram qualquer ligação."
   ]
  },
  {
   "cell_type": "markdown",
   "metadata": {},
   "source": [
    "# Grafico de Distribuição - Desvio Padrão"
   ]
  },
  {
   "cell_type": "code",
   "execution_count": 24,
   "metadata": {},
   "outputs": [
    {
     "data": {
      "image/png": "[encoded data removed]",
      "text/plain": [
       "<Figure size 1440x1296 with 16 Axes>"
      ]
     },
     "metadata": {
      "needs_background": "light"
     },
     "output_type": "display_data"
    }
   ],
   "source": [
    "treino.hist(bins='auto', density=True, alpha=0.6, color='g')\n",
    "plt.gcf().set_size_inches(20, 18)\n",
    "plt.show()"
   ]
  },
  {
   "cell_type": "code",
   "execution_count": null,
   "metadata": {},
   "outputs": [],
   "source": [
    "# Primeiramente percebemos que a diferença da quantidade da TARGET está muito diferente Cancela e não Cancelar o plano\n",
    "# Boa parte das variáveis estão em distribuição normal, não precisando de normaliza-las\n",
    "# Variáveis com outliers como os outlies tratam de quantidades não farei a normalização das variáveis em primeiro momento "
   ]
  },
  {
   "cell_type": "markdown",
   "metadata": {},
   "source": [
    "# BoxPlot para verificação dos OutLiers"
   ]
  },
  {
   "cell_type": "code",
   "execution_count": 25,
   "metadata": {},
   "outputs": [
    {
     "data": {
      "text/plain": [
       "(array([ 1,  2,  3,  4,  5,  6,  7,  8,  9, 10, 11, 12, 13, 14, 15]),\n",
       " <a list of 15 Text xticklabel objects>)"
      ]
     },
     "execution_count": 25,
     "metadata": {},
     "output_type": "execute_result"
    },
    {
     "data": {
      "image/png": "[encoded data removed]",
      "text/plain": [
       "<Figure size 1080x864 with 1 Axes>"
      ]
     },
     "metadata": {
      "needs_background": "light"
     },
     "output_type": "display_data"
    }
   ],
   "source": [
    "treino.boxplot()\n",
    "plt.gcf().set_size_inches(15, 12)\n",
    "plt.xticks(rotation=90)"
   ]
  },
  {
   "cell_type": "code",
   "execution_count": null,
   "metadata": {},
   "outputs": [],
   "source": [
    "# O BoxPlot confirma a primeira análise feita no gráfico anterior "
   ]
  },
  {
   "cell_type": "markdown",
   "metadata": {},
   "source": [
    "# Verifica as variáveis faltantes Variaveis Faltantes "
   ]
  },
  {
   "cell_type": "code",
   "execution_count": 26,
   "metadata": {},
   "outputs": [
    {
     "data": {
      "text/plain": [
       "target             0\n",
       "lig_call_center    0\n",
       "tempo_conta        0\n",
       "cod_area           0\n",
       "plano_int          0\n",
       "plano_voz_email    0\n",
       "qtd_msg_vmail      0\n",
       "qtd_dias_min       0\n",
       "qtd_dias_lig       0\n",
       "custo_dia          0\n",
       "dtype: int64"
      ]
     },
     "execution_count": 26,
     "metadata": {},
     "output_type": "execute_result"
    }
   ],
   "source": [
    "treino.isnull().sum().sort_values(ascending = False)[:10]"
   ]
  },
  {
   "cell_type": "code",
   "execution_count": null,
   "metadata": {},
   "outputs": [],
   "source": [
    "# Não temos valores Missing para nenhuma variável"
   ]
  },
  {
   "cell_type": "markdown",
   "metadata": {},
   "source": [
    "# Analisando as variáveis "
   ]
  },
  {
   "cell_type": "code",
   "execution_count": 27,
   "metadata": {},
   "outputs": [
    {
     "data": {
      "text/html": [
       "<div>\n",
       "<style scoped>\n",
       "    .dataframe tbody tr th:only-of-type {\n",
       "        vertical-align: middle;\n",
       "    }\n",
       "\n",
       "    .dataframe tbody tr th {\n",
       "        vertical-align: top;\n",
       "    }\n",
       "\n",
       "    .dataframe thead th {\n",
       "        text-align: right;\n",
       "    }\n",
       "</style>\n",
       "<table border=\"1\" class=\"dataframe\">\n",
       "  <thead>\n",
       "    <tr style=\"text-align: right;\">\n",
       "      <th></th>\n",
       "      <th>tempo_conta</th>\n",
       "      <th>qtd_msg_vmail</th>\n",
       "      <th>qtd_dias_min</th>\n",
       "      <th>qtd_dias_lig</th>\n",
       "      <th>custo_dia</th>\n",
       "      <th>qtd_vesp_min</th>\n",
       "      <th>qtd_vesp_lig</th>\n",
       "      <th>custo_vesp</th>\n",
       "      <th>qtd_min_noite</th>\n",
       "      <th>qtd_lig_noite</th>\n",
       "      <th>custo_noite</th>\n",
       "      <th>minutos_total</th>\n",
       "      <th>lig_total</th>\n",
       "      <th>custo_total</th>\n",
       "      <th>lig_call_center</th>\n",
       "    </tr>\n",
       "  </thead>\n",
       "  <tbody>\n",
       "    <tr>\n",
       "      <th>count</th>\n",
       "      <td>3333.000000</td>\n",
       "      <td>3333.000000</td>\n",
       "      <td>3333.000000</td>\n",
       "      <td>3333.000000</td>\n",
       "      <td>3333.000000</td>\n",
       "      <td>3333.000000</td>\n",
       "      <td>3333.000000</td>\n",
       "      <td>3333.000000</td>\n",
       "      <td>3333.000000</td>\n",
       "      <td>3333.000000</td>\n",
       "      <td>3333.000000</td>\n",
       "      <td>3333.000000</td>\n",
       "      <td>3333.000000</td>\n",
       "      <td>3333.000000</td>\n",
       "      <td>3333.000000</td>\n",
       "    </tr>\n",
       "    <tr>\n",
       "      <th>mean</th>\n",
       "      <td>101.064806</td>\n",
       "      <td>8.099010</td>\n",
       "      <td>179.775098</td>\n",
       "      <td>100.435644</td>\n",
       "      <td>30.562307</td>\n",
       "      <td>200.980348</td>\n",
       "      <td>100.114311</td>\n",
       "      <td>17.083540</td>\n",
       "      <td>200.872037</td>\n",
       "      <td>100.107711</td>\n",
       "      <td>9.039325</td>\n",
       "      <td>10.237294</td>\n",
       "      <td>4.479448</td>\n",
       "      <td>2.764581</td>\n",
       "      <td>1.562856</td>\n",
       "    </tr>\n",
       "    <tr>\n",
       "      <th>std</th>\n",
       "      <td>39.822106</td>\n",
       "      <td>13.688365</td>\n",
       "      <td>54.467389</td>\n",
       "      <td>20.069084</td>\n",
       "      <td>9.259435</td>\n",
       "      <td>50.713844</td>\n",
       "      <td>19.922625</td>\n",
       "      <td>4.310668</td>\n",
       "      <td>50.573847</td>\n",
       "      <td>19.568609</td>\n",
       "      <td>2.275873</td>\n",
       "      <td>2.791840</td>\n",
       "      <td>2.461214</td>\n",
       "      <td>0.753773</td>\n",
       "      <td>1.315491</td>\n",
       "    </tr>\n",
       "    <tr>\n",
       "      <th>min</th>\n",
       "      <td>1.000000</td>\n",
       "      <td>0.000000</td>\n",
       "      <td>0.000000</td>\n",
       "      <td>0.000000</td>\n",
       "      <td>0.000000</td>\n",
       "      <td>0.000000</td>\n",
       "      <td>0.000000</td>\n",
       "      <td>0.000000</td>\n",
       "      <td>23.200000</td>\n",
       "      <td>33.000000</td>\n",
       "      <td>1.040000</td>\n",
       "      <td>0.000000</td>\n",
       "      <td>0.000000</td>\n",
       "      <td>0.000000</td>\n",
       "      <td>0.000000</td>\n",
       "    </tr>\n",
       "    <tr>\n",
       "      <th>25%</th>\n",
       "      <td>74.000000</td>\n",
       "      <td>0.000000</td>\n",
       "      <td>143.700000</td>\n",
       "      <td>87.000000</td>\n",
       "      <td>24.430000</td>\n",
       "      <td>166.600000</td>\n",
       "      <td>87.000000</td>\n",
       "      <td>14.160000</td>\n",
       "      <td>167.000000</td>\n",
       "      <td>87.000000</td>\n",
       "      <td>7.520000</td>\n",
       "      <td>8.500000</td>\n",
       "      <td>3.000000</td>\n",
       "      <td>2.300000</td>\n",
       "      <td>1.000000</td>\n",
       "    </tr>\n",
       "    <tr>\n",
       "      <th>50%</th>\n",
       "      <td>101.000000</td>\n",
       "      <td>0.000000</td>\n",
       "      <td>179.400000</td>\n",
       "      <td>101.000000</td>\n",
       "      <td>30.500000</td>\n",
       "      <td>201.400000</td>\n",
       "      <td>100.000000</td>\n",
       "      <td>17.120000</td>\n",
       "      <td>201.200000</td>\n",
       "      <td>100.000000</td>\n",
       "      <td>9.050000</td>\n",
       "      <td>10.300000</td>\n",
       "      <td>4.000000</td>\n",
       "      <td>2.780000</td>\n",
       "      <td>1.000000</td>\n",
       "    </tr>\n",
       "    <tr>\n",
       "      <th>75%</th>\n",
       "      <td>127.000000</td>\n",
       "      <td>20.000000</td>\n",
       "      <td>216.400000</td>\n",
       "      <td>114.000000</td>\n",
       "      <td>36.790000</td>\n",
       "      <td>235.300000</td>\n",
       "      <td>114.000000</td>\n",
       "      <td>20.000000</td>\n",
       "      <td>235.300000</td>\n",
       "      <td>113.000000</td>\n",
       "      <td>10.590000</td>\n",
       "      <td>12.100000</td>\n",
       "      <td>6.000000</td>\n",
       "      <td>3.270000</td>\n",
       "      <td>2.000000</td>\n",
       "    </tr>\n",
       "    <tr>\n",
       "      <th>max</th>\n",
       "      <td>243.000000</td>\n",
       "      <td>51.000000</td>\n",
       "      <td>350.800000</td>\n",
       "      <td>165.000000</td>\n",
       "      <td>59.640000</td>\n",
       "      <td>363.700000</td>\n",
       "      <td>170.000000</td>\n",
       "      <td>30.910000</td>\n",
       "      <td>395.000000</td>\n",
       "      <td>175.000000</td>\n",
       "      <td>17.770000</td>\n",
       "      <td>20.000000</td>\n",
       "      <td>20.000000</td>\n",
       "      <td>5.400000</td>\n",
       "      <td>9.000000</td>\n",
       "    </tr>\n",
       "  </tbody>\n",
       "</table>\n",
       "</div>"
      ],
      "text/plain": [
       "       tempo_conta  qtd_msg_vmail  qtd_dias_min  qtd_dias_lig    custo_dia  \\\n",
       "count  3333.000000    3333.000000   3333.000000   3333.000000  3333.000000   \n",
       "mean    101.064806       8.099010    179.775098    100.435644    30.562307   \n",
       "std      39.822106      13.688365     54.467389     20.069084     9.259435   \n",
       "min       1.000000       0.000000      0.000000      0.000000     0.000000   \n",
       "25%      74.000000       0.000000    143.700000     87.000000    24.430000   \n",
       "50%     101.000000       0.000000    179.400000    101.000000    30.500000   \n",
       "75%     127.000000      20.000000    216.400000    114.000000    36.790000   \n",
       "max     243.000000      51.000000    350.800000    165.000000    59.640000   \n",
       "\n",
       "       qtd_vesp_min  qtd_vesp_lig   custo_vesp  qtd_min_noite  qtd_lig_noite  \\\n",
       "count   3333.000000   3333.000000  3333.000000    3333.000000    3333.000000   \n",
       "mean     200.980348    100.114311    17.083540     200.872037     100.107711   \n",
       "std       50.713844     19.922625     4.310668      50.573847      19.568609   \n",
       "min        0.000000      0.000000     0.000000      23.200000      33.000000   \n",
       "25%      166.600000     87.000000    14.160000     167.000000      87.000000   \n",
       "50%      201.400000    100.000000    17.120000     201.200000     100.000000   \n",
       "75%      235.300000    114.000000    20.000000     235.300000     113.000000   \n",
       "max      363.700000    170.000000    30.910000     395.000000     175.000000   \n",
       "\n",
       "       custo_noite  minutos_total    lig_total  custo_total  lig_call_center  \n",
       "count  3333.000000    3333.000000  3333.000000  3333.000000      3333.000000  \n",
       "mean      9.039325      10.237294     4.479448     2.764581         1.562856  \n",
       "std       2.275873       2.791840     2.461214     0.753773         1.315491  \n",
       "min       1.040000       0.000000     0.000000     0.000000         0.000000  \n",
       "25%       7.520000       8.500000     3.000000     2.300000         1.000000  \n",
       "50%       9.050000      10.300000     4.000000     2.780000         1.000000  \n",
       "75%      10.590000      12.100000     6.000000     3.270000         2.000000  \n",
       "max      17.770000      20.000000    20.000000     5.400000         9.000000  "
      ]
     },
     "execution_count": 27,
     "metadata": {},
     "output_type": "execute_result"
    }
   ],
   "source": [
    "treino.describe()"
   ]
  },
  {
   "cell_type": "code",
   "execution_count": null,
   "metadata": {},
   "outputs": [],
   "source": [
    "# As variáveis que se relacionam a quantidade então com Min e Max com uma distancia muito grande, distante da média\n",
    "# farei uma padronização para essas variáveis "
   ]
  },
  {
   "cell_type": "markdown",
   "metadata": {},
   "source": [
    "# Tabela de Correlação para verificar a relação entre as variáveis "
   ]
  },
  {
   "cell_type": "code",
   "execution_count": 28,
   "metadata": {},
   "outputs": [
    {
     "data": {
      "text/html": [
       "<div>\n",
       "<style scoped>\n",
       "    .dataframe tbody tr th:only-of-type {\n",
       "        vertical-align: middle;\n",
       "    }\n",
       "\n",
       "    .dataframe tbody tr th {\n",
       "        vertical-align: top;\n",
       "    }\n",
       "\n",
       "    .dataframe thead th {\n",
       "        text-align: right;\n",
       "    }\n",
       "</style>\n",
       "<table border=\"1\" class=\"dataframe\">\n",
       "  <thead>\n",
       "    <tr style=\"text-align: right;\">\n",
       "      <th></th>\n",
       "      <th>tempo_conta</th>\n",
       "      <th>qtd_msg_vmail</th>\n",
       "      <th>qtd_dias_min</th>\n",
       "      <th>qtd_dias_lig</th>\n",
       "      <th>custo_dia</th>\n",
       "      <th>qtd_vesp_min</th>\n",
       "      <th>qtd_vesp_lig</th>\n",
       "      <th>custo_vesp</th>\n",
       "      <th>qtd_min_noite</th>\n",
       "      <th>qtd_lig_noite</th>\n",
       "      <th>custo_noite</th>\n",
       "      <th>minutos_total</th>\n",
       "      <th>lig_total</th>\n",
       "      <th>custo_total</th>\n",
       "      <th>lig_call_center</th>\n",
       "    </tr>\n",
       "  </thead>\n",
       "  <tbody>\n",
       "    <tr>\n",
       "      <th>tempo_conta</th>\n",
       "      <td>1.000000</td>\n",
       "      <td>-0.004628</td>\n",
       "      <td>0.006216</td>\n",
       "      <td>0.038470</td>\n",
       "      <td>0.006214</td>\n",
       "      <td>-0.006757</td>\n",
       "      <td>0.019260</td>\n",
       "      <td>-0.006745</td>\n",
       "      <td>-0.008955</td>\n",
       "      <td>-0.013176</td>\n",
       "      <td>-0.008960</td>\n",
       "      <td>0.009514</td>\n",
       "      <td>0.020661</td>\n",
       "      <td>0.009546</td>\n",
       "      <td>-0.003796</td>\n",
       "    </tr>\n",
       "    <tr>\n",
       "      <th>qtd_msg_vmail</th>\n",
       "      <td>-0.004628</td>\n",
       "      <td>1.000000</td>\n",
       "      <td>0.000778</td>\n",
       "      <td>-0.009548</td>\n",
       "      <td>0.000776</td>\n",
       "      <td>0.017562</td>\n",
       "      <td>-0.005864</td>\n",
       "      <td>0.017578</td>\n",
       "      <td>0.007681</td>\n",
       "      <td>0.007123</td>\n",
       "      <td>0.007663</td>\n",
       "      <td>0.002856</td>\n",
       "      <td>0.013957</td>\n",
       "      <td>0.002884</td>\n",
       "      <td>-0.013263</td>\n",
       "    </tr>\n",
       "    <tr>\n",
       "      <th>qtd_dias_min</th>\n",
       "      <td>0.006216</td>\n",
       "      <td>0.000778</td>\n",
       "      <td>1.000000</td>\n",
       "      <td>0.006750</td>\n",
       "      <td>1.000000</td>\n",
       "      <td>0.007043</td>\n",
       "      <td>0.015769</td>\n",
       "      <td>0.007029</td>\n",
       "      <td>0.004323</td>\n",
       "      <td>0.022972</td>\n",
       "      <td>0.004300</td>\n",
       "      <td>-0.010155</td>\n",
       "      <td>0.008033</td>\n",
       "      <td>-0.010092</td>\n",
       "      <td>-0.013423</td>\n",
       "    </tr>\n",
       "    <tr>\n",
       "      <th>qtd_dias_lig</th>\n",
       "      <td>0.038470</td>\n",
       "      <td>-0.009548</td>\n",
       "      <td>0.006750</td>\n",
       "      <td>1.000000</td>\n",
       "      <td>0.006753</td>\n",
       "      <td>-0.021451</td>\n",
       "      <td>0.006462</td>\n",
       "      <td>-0.021449</td>\n",
       "      <td>0.022938</td>\n",
       "      <td>-0.019557</td>\n",
       "      <td>0.022927</td>\n",
       "      <td>0.021565</td>\n",
       "      <td>0.004574</td>\n",
       "      <td>0.021666</td>\n",
       "      <td>-0.018942</td>\n",
       "    </tr>\n",
       "    <tr>\n",
       "      <th>custo_dia</th>\n",
       "      <td>0.006214</td>\n",
       "      <td>0.000776</td>\n",
       "      <td>1.000000</td>\n",
       "      <td>0.006753</td>\n",
       "      <td>1.000000</td>\n",
       "      <td>0.007050</td>\n",
       "      <td>0.015769</td>\n",
       "      <td>0.007036</td>\n",
       "      <td>0.004324</td>\n",
       "      <td>0.022972</td>\n",
       "      <td>0.004301</td>\n",
       "      <td>-0.010157</td>\n",
       "      <td>0.008032</td>\n",
       "      <td>-0.010094</td>\n",
       "      <td>-0.013427</td>\n",
       "    </tr>\n",
       "    <tr>\n",
       "      <th>qtd_vesp_min</th>\n",
       "      <td>-0.006757</td>\n",
       "      <td>0.017562</td>\n",
       "      <td>0.007043</td>\n",
       "      <td>-0.021451</td>\n",
       "      <td>0.007050</td>\n",
       "      <td>1.000000</td>\n",
       "      <td>-0.011430</td>\n",
       "      <td>1.000000</td>\n",
       "      <td>-0.012584</td>\n",
       "      <td>0.007586</td>\n",
       "      <td>-0.012593</td>\n",
       "      <td>-0.011035</td>\n",
       "      <td>0.002541</td>\n",
       "      <td>-0.011067</td>\n",
       "      <td>-0.012985</td>\n",
       "    </tr>\n",
       "    <tr>\n",
       "      <th>qtd_vesp_lig</th>\n",
       "      <td>0.019260</td>\n",
       "      <td>-0.005864</td>\n",
       "      <td>0.015769</td>\n",
       "      <td>0.006462</td>\n",
       "      <td>0.015769</td>\n",
       "      <td>-0.011430</td>\n",
       "      <td>1.000000</td>\n",
       "      <td>-0.011423</td>\n",
       "      <td>-0.002093</td>\n",
       "      <td>0.007710</td>\n",
       "      <td>-0.002056</td>\n",
       "      <td>0.008703</td>\n",
       "      <td>0.017434</td>\n",
       "      <td>0.008674</td>\n",
       "      <td>0.002423</td>\n",
       "    </tr>\n",
       "    <tr>\n",
       "      <th>custo_vesp</th>\n",
       "      <td>-0.006745</td>\n",
       "      <td>0.017578</td>\n",
       "      <td>0.007029</td>\n",
       "      <td>-0.021449</td>\n",
       "      <td>0.007036</td>\n",
       "      <td>1.000000</td>\n",
       "      <td>-0.011423</td>\n",
       "      <td>1.000000</td>\n",
       "      <td>-0.012592</td>\n",
       "      <td>0.007596</td>\n",
       "      <td>-0.012601</td>\n",
       "      <td>-0.011043</td>\n",
       "      <td>0.002541</td>\n",
       "      <td>-0.011074</td>\n",
       "      <td>-0.012987</td>\n",
       "    </tr>\n",
       "    <tr>\n",
       "      <th>qtd_min_noite</th>\n",
       "      <td>-0.008955</td>\n",
       "      <td>0.007681</td>\n",
       "      <td>0.004323</td>\n",
       "      <td>0.022938</td>\n",
       "      <td>0.004324</td>\n",
       "      <td>-0.012584</td>\n",
       "      <td>-0.002093</td>\n",
       "      <td>-0.012592</td>\n",
       "      <td>1.000000</td>\n",
       "      <td>0.011204</td>\n",
       "      <td>0.999999</td>\n",
       "      <td>-0.015207</td>\n",
       "      <td>-0.012353</td>\n",
       "      <td>-0.015180</td>\n",
       "      <td>-0.009288</td>\n",
       "    </tr>\n",
       "    <tr>\n",
       "      <th>qtd_lig_noite</th>\n",
       "      <td>-0.013176</td>\n",
       "      <td>0.007123</td>\n",
       "      <td>0.022972</td>\n",
       "      <td>-0.019557</td>\n",
       "      <td>0.022972</td>\n",
       "      <td>0.007586</td>\n",
       "      <td>0.007710</td>\n",
       "      <td>0.007596</td>\n",
       "      <td>0.011204</td>\n",
       "      <td>1.000000</td>\n",
       "      <td>0.011188</td>\n",
       "      <td>-0.013605</td>\n",
       "      <td>0.000305</td>\n",
       "      <td>-0.013630</td>\n",
       "      <td>-0.012802</td>\n",
       "    </tr>\n",
       "    <tr>\n",
       "      <th>custo_noite</th>\n",
       "      <td>-0.008960</td>\n",
       "      <td>0.007663</td>\n",
       "      <td>0.004300</td>\n",
       "      <td>0.022927</td>\n",
       "      <td>0.004301</td>\n",
       "      <td>-0.012593</td>\n",
       "      <td>-0.002056</td>\n",
       "      <td>-0.012601</td>\n",
       "      <td>0.999999</td>\n",
       "      <td>0.011188</td>\n",
       "      <td>1.000000</td>\n",
       "      <td>-0.015214</td>\n",
       "      <td>-0.012329</td>\n",
       "      <td>-0.015186</td>\n",
       "      <td>-0.009277</td>\n",
       "    </tr>\n",
       "    <tr>\n",
       "      <th>minutos_total</th>\n",
       "      <td>0.009514</td>\n",
       "      <td>0.002856</td>\n",
       "      <td>-0.010155</td>\n",
       "      <td>0.021565</td>\n",
       "      <td>-0.010157</td>\n",
       "      <td>-0.011035</td>\n",
       "      <td>0.008703</td>\n",
       "      <td>-0.011043</td>\n",
       "      <td>-0.015207</td>\n",
       "      <td>-0.013605</td>\n",
       "      <td>-0.015214</td>\n",
       "      <td>1.000000</td>\n",
       "      <td>0.032304</td>\n",
       "      <td>0.999993</td>\n",
       "      <td>-0.009640</td>\n",
       "    </tr>\n",
       "    <tr>\n",
       "      <th>lig_total</th>\n",
       "      <td>0.020661</td>\n",
       "      <td>0.013957</td>\n",
       "      <td>0.008033</td>\n",
       "      <td>0.004574</td>\n",
       "      <td>0.008032</td>\n",
       "      <td>0.002541</td>\n",
       "      <td>0.017434</td>\n",
       "      <td>0.002541</td>\n",
       "      <td>-0.012353</td>\n",
       "      <td>0.000305</td>\n",
       "      <td>-0.012329</td>\n",
       "      <td>0.032304</td>\n",
       "      <td>1.000000</td>\n",
       "      <td>0.032372</td>\n",
       "      <td>-0.017561</td>\n",
       "    </tr>\n",
       "    <tr>\n",
       "      <th>custo_total</th>\n",
       "      <td>0.009546</td>\n",
       "      <td>0.002884</td>\n",
       "      <td>-0.010092</td>\n",
       "      <td>0.021666</td>\n",
       "      <td>-0.010094</td>\n",
       "      <td>-0.011067</td>\n",
       "      <td>0.008674</td>\n",
       "      <td>-0.011074</td>\n",
       "      <td>-0.015180</td>\n",
       "      <td>-0.013630</td>\n",
       "      <td>-0.015186</td>\n",
       "      <td>0.999993</td>\n",
       "      <td>0.032372</td>\n",
       "      <td>1.000000</td>\n",
       "      <td>-0.009675</td>\n",
       "    </tr>\n",
       "    <tr>\n",
       "      <th>lig_call_center</th>\n",
       "      <td>-0.003796</td>\n",
       "      <td>-0.013263</td>\n",
       "      <td>-0.013423</td>\n",
       "      <td>-0.018942</td>\n",
       "      <td>-0.013427</td>\n",
       "      <td>-0.012985</td>\n",
       "      <td>0.002423</td>\n",
       "      <td>-0.012987</td>\n",
       "      <td>-0.009288</td>\n",
       "      <td>-0.012802</td>\n",
       "      <td>-0.009277</td>\n",
       "      <td>-0.009640</td>\n",
       "      <td>-0.017561</td>\n",
       "      <td>-0.009675</td>\n",
       "      <td>1.000000</td>\n",
       "    </tr>\n",
       "  </tbody>\n",
       "</table>\n",
       "</div>"
      ],
      "text/plain": [
       "                 tempo_conta  qtd_msg_vmail  qtd_dias_min  qtd_dias_lig  \\\n",
       "tempo_conta         1.000000      -0.004628      0.006216      0.038470   \n",
       "qtd_msg_vmail      -0.004628       1.000000      0.000778     -0.009548   \n",
       "qtd_dias_min        0.006216       0.000778      1.000000      0.006750   \n",
       "qtd_dias_lig        0.038470      -0.009548      0.006750      1.000000   \n",
       "custo_dia           0.006214       0.000776      1.000000      0.006753   \n",
       "qtd_vesp_min       -0.006757       0.017562      0.007043     -0.021451   \n",
       "qtd_vesp_lig        0.019260      -0.005864      0.015769      0.006462   \n",
       "custo_vesp         -0.006745       0.017578      0.007029     -0.021449   \n",
       "qtd_min_noite      -0.008955       0.007681      0.004323      0.022938   \n",
       "qtd_lig_noite      -0.013176       0.007123      0.022972     -0.019557   \n",
       "custo_noite        -0.008960       0.007663      0.004300      0.022927   \n",
       "minutos_total       0.009514       0.002856     -0.010155      0.021565   \n",
       "lig_total           0.020661       0.013957      0.008033      0.004574   \n",
       "custo_total         0.009546       0.002884     -0.010092      0.021666   \n",
       "lig_call_center    -0.003796      -0.013263     -0.013423     -0.018942   \n",
       "\n",
       "                 custo_dia  qtd_vesp_min  qtd_vesp_lig  custo_vesp  \\\n",
       "tempo_conta       0.006214     -0.006757      0.019260   -0.006745   \n",
       "qtd_msg_vmail     0.000776      0.017562     -0.005864    0.017578   \n",
       "qtd_dias_min      1.000000      0.007043      0.015769    0.007029   \n",
       "qtd_dias_lig      0.006753     -0.021451      0.006462   -0.021449   \n",
       "custo_dia         1.000000      0.007050      0.015769    0.007036   \n",
       "qtd_vesp_min      0.007050      1.000000     -0.011430    1.000000   \n",
       "qtd_vesp_lig      0.015769     -0.011430      1.000000   -0.011423   \n",
       "custo_vesp        0.007036      1.000000     -0.011423    1.000000   \n",
       "qtd_min_noite     0.004324     -0.012584     -0.002093   -0.012592   \n",
       "qtd_lig_noite     0.022972      0.007586      0.007710    0.007596   \n",
       "custo_noite       0.004301     -0.012593     -0.002056   -0.012601   \n",
       "minutos_total    -0.010157     -0.011035      0.008703   -0.011043   \n",
       "lig_total         0.008032      0.002541      0.017434    0.002541   \n",
       "custo_total      -0.010094     -0.011067      0.008674   -0.011074   \n",
       "lig_call_center  -0.013427     -0.012985      0.002423   -0.012987   \n",
       "\n",
       "                 qtd_min_noite  qtd_lig_noite  custo_noite  minutos_total  \\\n",
       "tempo_conta          -0.008955      -0.013176    -0.008960       0.009514   \n",
       "qtd_msg_vmail         0.007681       0.007123     0.007663       0.002856   \n",
       "qtd_dias_min          0.004323       0.022972     0.004300      -0.010155   \n",
       "qtd_dias_lig          0.022938      -0.019557     0.022927       0.021565   \n",
       "custo_dia             0.004324       0.022972     0.004301      -0.010157   \n",
       "qtd_vesp_min         -0.012584       0.007586    -0.012593      -0.011035   \n",
       "qtd_vesp_lig         -0.002093       0.007710    -0.002056       0.008703   \n",
       "custo_vesp           -0.012592       0.007596    -0.012601      -0.011043   \n",
       "qtd_min_noite         1.000000       0.011204     0.999999      -0.015207   \n",
       "qtd_lig_noite         0.011204       1.000000     0.011188      -0.013605   \n",
       "custo_noite           0.999999       0.011188     1.000000      -0.015214   \n",
       "minutos_total        -0.015207      -0.013605    -0.015214       1.000000   \n",
       "lig_total            -0.012353       0.000305    -0.012329       0.032304   \n",
       "custo_total          -0.015180      -0.013630    -0.015186       0.999993   \n",
       "lig_call_center      -0.009288      -0.012802    -0.009277      -0.009640   \n",
       "\n",
       "                 lig_total  custo_total  lig_call_center  \n",
       "tempo_conta       0.020661     0.009546        -0.003796  \n",
       "qtd_msg_vmail     0.013957     0.002884        -0.013263  \n",
       "qtd_dias_min      0.008033    -0.010092        -0.013423  \n",
       "qtd_dias_lig      0.004574     0.021666        -0.018942  \n",
       "custo_dia         0.008032    -0.010094        -0.013427  \n",
       "qtd_vesp_min      0.002541    -0.011067        -0.012985  \n",
       "qtd_vesp_lig      0.017434     0.008674         0.002423  \n",
       "custo_vesp        0.002541    -0.011074        -0.012987  \n",
       "qtd_min_noite    -0.012353    -0.015180        -0.009288  \n",
       "qtd_lig_noite     0.000305    -0.013630        -0.012802  \n",
       "custo_noite      -0.012329    -0.015186        -0.009277  \n",
       "minutos_total     0.032304     0.999993        -0.009640  \n",
       "lig_total         1.000000     0.032372        -0.017561  \n",
       "custo_total       0.032372     1.000000        -0.009675  \n",
       "lig_call_center  -0.017561    -0.009675         1.000000  "
      ]
     },
     "execution_count": 28,
     "metadata": {},
     "output_type": "execute_result"
    }
   ],
   "source": [
    "treino.corr(method = 'pearson')"
   ]
  },
  {
   "cell_type": "markdown",
   "metadata": {},
   "source": [
    "# Mapa de Calor para correlação das Variáveis - PEARSON"
   ]
  },
  {
   "cell_type": "code",
   "execution_count": 29,
   "metadata": {},
   "outputs": [
    {
     "data": {
      "image/png": "[encoded data removed]",
      "text/plain": [
       "<Figure size 1440x1440 with 2 Axes>"
      ]
     },
     "metadata": {
      "needs_background": "light"
     },
     "output_type": "display_data"
    }
   ],
   "source": [
    "corrmat = treino.corr()\n",
    "top_corr_features = corrmat.index\n",
    "plt.figure(figsize=(20,20))\n",
    "#plot heat map\n",
    "g=sns.heatmap(treino[top_corr_features].corr(),annot=True,cmap=\"RdYlGn\")"
   ]
  },
  {
   "cell_type": "markdown",
   "metadata": {},
   "source": [
    "# Mapa de Calor para correlação das Variáveis - SPEARMAN"
   ]
  },
  {
   "cell_type": "code",
   "execution_count": 30,
   "metadata": {},
   "outputs": [
    {
     "data": {
      "text/html": [
       "<style  type=\"text/css\" >\n",
       "    #T_66c036ba_9525_11ea_bc6b_e81132bf5a8frow0_col0 {\n",
       "            background-color:  #b40426;\n",
       "            color:  #f1f1f1;\n",
       "        }    #T_66c036ba_9525_11ea_bc6b_e81132bf5a8frow0_col1 {\n",
       "            background-color:  #3f53c6;\n",
       "            color:  #f1f1f1;\n",
       "        }    #T_66c036ba_9525_11ea_bc6b_e81132bf5a8frow0_col2 {\n",
       "            background-color:  #4358cb;\n",
       "            color:  #f1f1f1;\n",
       "        }    #T_66c036ba_9525_11ea_bc6b_e81132bf5a8frow0_col3 {\n",
       "            background-color:  #485fd1;\n",
       "            color:  #f1f1f1;\n",
       "        }    #T_66c036ba_9525_11ea_bc6b_e81132bf5a8frow0_col4 {\n",
       "            background-color:  #4358cb;\n",
       "            color:  #f1f1f1;\n",
       "        }    #T_66c036ba_9525_11ea_bc6b_e81132bf5a8frow0_col5 {\n",
       "            background-color:  #3c4ec2;\n",
       "            color:  #f1f1f1;\n",
       "        }    #T_66c036ba_9525_11ea_bc6b_e81132bf5a8frow0_col6 {\n",
       "            background-color:  #445acc;\n",
       "            color:  #f1f1f1;\n",
       "        }    #T_66c036ba_9525_11ea_bc6b_e81132bf5a8frow0_col7 {\n",
       "            background-color:  #3c4ec2;\n",
       "            color:  #f1f1f1;\n",
       "        }    #T_66c036ba_9525_11ea_bc6b_e81132bf5a8frow0_col8 {\n",
       "            background-color:  #3b4cc0;\n",
       "            color:  #f1f1f1;\n",
       "        }    #T_66c036ba_9525_11ea_bc6b_e81132bf5a8frow0_col9 {\n",
       "            background-color:  #3c4ec2;\n",
       "            color:  #f1f1f1;\n",
       "        }    #T_66c036ba_9525_11ea_bc6b_e81132bf5a8frow0_col10 {\n",
       "            background-color:  #3b4cc0;\n",
       "            color:  #f1f1f1;\n",
       "        }    #T_66c036ba_9525_11ea_bc6b_e81132bf5a8frow0_col11 {\n",
       "            background-color:  #4358cb;\n",
       "            color:  #f1f1f1;\n",
       "        }    #T_66c036ba_9525_11ea_bc6b_e81132bf5a8frow0_col12 {\n",
       "            background-color:  #465ecf;\n",
       "            color:  #f1f1f1;\n",
       "        }    #T_66c036ba_9525_11ea_bc6b_e81132bf5a8frow0_col13 {\n",
       "            background-color:  #4358cb;\n",
       "            color:  #f1f1f1;\n",
       "        }    #T_66c036ba_9525_11ea_bc6b_e81132bf5a8frow0_col14 {\n",
       "            background-color:  #3c4ec2;\n",
       "            color:  #f1f1f1;\n",
       "        }    #T_66c036ba_9525_11ea_bc6b_e81132bf5a8frow1_col0 {\n",
       "            background-color:  #4055c8;\n",
       "            color:  #f1f1f1;\n",
       "        }    #T_66c036ba_9525_11ea_bc6b_e81132bf5a8frow1_col1 {\n",
       "            background-color:  #b40426;\n",
       "            color:  #f1f1f1;\n",
       "        }    #T_66c036ba_9525_11ea_bc6b_e81132bf5a8frow1_col2 {\n",
       "            background-color:  #4055c8;\n",
       "            color:  #f1f1f1;\n",
       "        }    #T_66c036ba_9525_11ea_bc6b_e81132bf5a8frow1_col3 {\n",
       "            background-color:  #3c4ec2;\n",
       "            color:  #f1f1f1;\n",
       "        }    #T_66c036ba_9525_11ea_bc6b_e81132bf5a8frow1_col4 {\n",
       "            background-color:  #4055c8;\n",
       "            color:  #f1f1f1;\n",
       "        }    #T_66c036ba_9525_11ea_bc6b_e81132bf5a8frow1_col5 {\n",
       "            background-color:  #465ecf;\n",
       "            color:  #f1f1f1;\n",
       "        }    #T_66c036ba_9525_11ea_bc6b_e81132bf5a8frow1_col6 {\n",
       "            background-color:  #3e51c5;\n",
       "            color:  #f1f1f1;\n",
       "        }    #T_66c036ba_9525_11ea_bc6b_e81132bf5a8frow1_col7 {\n",
       "            background-color:  #465ecf;\n",
       "            color:  #f1f1f1;\n",
       "        }    #T_66c036ba_9525_11ea_bc6b_e81132bf5a8frow1_col8 {\n",
       "            background-color:  #4257c9;\n",
       "            color:  #f1f1f1;\n",
       "        }    #T_66c036ba_9525_11ea_bc6b_e81132bf5a8frow1_col9 {\n",
       "            background-color:  #4358cb;\n",
       "            color:  #f1f1f1;\n",
       "        }    #T_66c036ba_9525_11ea_bc6b_e81132bf5a8frow1_col10 {\n",
       "            background-color:  #4257c9;\n",
       "            color:  #f1f1f1;\n",
       "        }    #T_66c036ba_9525_11ea_bc6b_e81132bf5a8frow1_col11 {\n",
       "            background-color:  #3f53c6;\n",
       "            color:  #f1f1f1;\n",
       "        }    #T_66c036ba_9525_11ea_bc6b_e81132bf5a8frow1_col12 {\n",
       "            background-color:  #4257c9;\n",
       "            color:  #f1f1f1;\n",
       "        }    #T_66c036ba_9525_11ea_bc6b_e81132bf5a8frow1_col13 {\n",
       "            background-color:  #3f53c6;\n",
       "            color:  #f1f1f1;\n",
       "        }    #T_66c036ba_9525_11ea_bc6b_e81132bf5a8frow1_col14 {\n",
       "            background-color:  #3b4cc0;\n",
       "            color:  #f1f1f1;\n",
       "        }    #T_66c036ba_9525_11ea_bc6b_e81132bf5a8frow2_col0 {\n",
       "            background-color:  #445acc;\n",
       "            color:  #f1f1f1;\n",
       "        }    #T_66c036ba_9525_11ea_bc6b_e81132bf5a8frow2_col1 {\n",
       "            background-color:  #4055c8;\n",
       "            color:  #f1f1f1;\n",
       "        }    #T_66c036ba_9525_11ea_bc6b_e81132bf5a8frow2_col2 {\n",
       "            background-color:  #b40426;\n",
       "            color:  #f1f1f1;\n",
       "        }    #T_66c036ba_9525_11ea_bc6b_e81132bf5a8frow2_col3 {\n",
       "            background-color:  #4257c9;\n",
       "            color:  #f1f1f1;\n",
       "        }    #T_66c036ba_9525_11ea_bc6b_e81132bf5a8frow2_col4 {\n",
       "            background-color:  #b40426;\n",
       "            color:  #f1f1f1;\n",
       "        }    #T_66c036ba_9525_11ea_bc6b_e81132bf5a8frow2_col5 {\n",
       "            background-color:  #4055c8;\n",
       "            color:  #f1f1f1;\n",
       "        }    #T_66c036ba_9525_11ea_bc6b_e81132bf5a8frow2_col6 {\n",
       "            background-color:  #445acc;\n",
       "            color:  #f1f1f1;\n",
       "        }    #T_66c036ba_9525_11ea_bc6b_e81132bf5a8frow2_col7 {\n",
       "            background-color:  #4055c8;\n",
       "            color:  #f1f1f1;\n",
       "        }    #T_66c036ba_9525_11ea_bc6b_e81132bf5a8frow2_col8 {\n",
       "            background-color:  #3d50c3;\n",
       "            color:  #f1f1f1;\n",
       "        }    #T_66c036ba_9525_11ea_bc6b_e81132bf5a8frow2_col9 {\n",
       "            background-color:  #455cce;\n",
       "            color:  #f1f1f1;\n",
       "        }    #T_66c036ba_9525_11ea_bc6b_e81132bf5a8frow2_col10 {\n",
       "            background-color:  #3d50c3;\n",
       "            color:  #f1f1f1;\n",
       "        }    #T_66c036ba_9525_11ea_bc6b_e81132bf5a8frow2_col11 {\n",
       "            background-color:  #3b4cc0;\n",
       "            color:  #f1f1f1;\n",
       "        }    #T_66c036ba_9525_11ea_bc6b_e81132bf5a8frow2_col12 {\n",
       "            background-color:  #3e51c5;\n",
       "            color:  #f1f1f1;\n",
       "        }    #T_66c036ba_9525_11ea_bc6b_e81132bf5a8frow2_col13 {\n",
       "            background-color:  #3b4cc0;\n",
       "            color:  #f1f1f1;\n",
       "        }    #T_66c036ba_9525_11ea_bc6b_e81132bf5a8frow2_col14 {\n",
       "            background-color:  #3b4cc0;\n",
       "            color:  #f1f1f1;\n",
       "        }    #T_66c036ba_9525_11ea_bc6b_e81132bf5a8frow3_col0 {\n",
       "            background-color:  #4a63d3;\n",
       "            color:  #f1f1f1;\n",
       "        }    #T_66c036ba_9525_11ea_bc6b_e81132bf5a8frow3_col1 {\n",
       "            background-color:  #3d50c3;\n",
       "            color:  #f1f1f1;\n",
       "        }    #T_66c036ba_9525_11ea_bc6b_e81132bf5a8frow3_col2 {\n",
       "            background-color:  #4358cb;\n",
       "            color:  #f1f1f1;\n",
       "        }    #T_66c036ba_9525_11ea_bc6b_e81132bf5a8frow3_col3 {\n",
       "            background-color:  #b40426;\n",
       "            color:  #f1f1f1;\n",
       "        }    #T_66c036ba_9525_11ea_bc6b_e81132bf5a8frow3_col4 {\n",
       "            background-color:  #4358cb;\n",
       "            color:  #f1f1f1;\n",
       "        }    #T_66c036ba_9525_11ea_bc6b_e81132bf5a8frow3_col5 {\n",
       "            background-color:  #3c4ec2;\n",
       "            color:  #f1f1f1;\n",
       "        }    #T_66c036ba_9525_11ea_bc6b_e81132bf5a8frow3_col6 {\n",
       "            background-color:  #445acc;\n",
       "            color:  #f1f1f1;\n",
       "        }    #T_66c036ba_9525_11ea_bc6b_e81132bf5a8frow3_col7 {\n",
       "            background-color:  #3c4ec2;\n",
       "            color:  #f1f1f1;\n",
       "        }    #T_66c036ba_9525_11ea_bc6b_e81132bf5a8frow3_col8 {\n",
       "            background-color:  #455cce;\n",
       "            color:  #f1f1f1;\n",
       "        }    #T_66c036ba_9525_11ea_bc6b_e81132bf5a8frow3_col9 {\n",
       "            background-color:  #3b4cc0;\n",
       "            color:  #f1f1f1;\n",
       "        }    #T_66c036ba_9525_11ea_bc6b_e81132bf5a8frow3_col10 {\n",
       "            background-color:  #455cce;\n",
       "            color:  #f1f1f1;\n",
       "        }    #T_66c036ba_9525_11ea_bc6b_e81132bf5a8frow3_col11 {\n",
       "            background-color:  #455cce;\n",
       "            color:  #f1f1f1;\n",
       "        }    #T_66c036ba_9525_11ea_bc6b_e81132bf5a8frow3_col12 {\n",
       "            background-color:  #4257c9;\n",
       "            color:  #f1f1f1;\n",
       "        }    #T_66c036ba_9525_11ea_bc6b_e81132bf5a8frow3_col13 {\n",
       "            background-color:  #455cce;\n",
       "            color:  #f1f1f1;\n",
       "        }    #T_66c036ba_9525_11ea_bc6b_e81132bf5a8frow3_col14 {\n",
       "            background-color:  #3b4cc0;\n",
       "            color:  #f1f1f1;\n",
       "        }    #T_66c036ba_9525_11ea_bc6b_e81132bf5a8frow4_col0 {\n",
       "            background-color:  #445acc;\n",
       "            color:  #f1f1f1;\n",
       "        }    #T_66c036ba_9525_11ea_bc6b_e81132bf5a8frow4_col1 {\n",
       "            background-color:  #4055c8;\n",
       "            color:  #f1f1f1;\n",
       "        }    #T_66c036ba_9525_11ea_bc6b_e81132bf5a8frow4_col2 {\n",
       "            background-color:  #b40426;\n",
       "            color:  #f1f1f1;\n",
       "        }    #T_66c036ba_9525_11ea_bc6b_e81132bf5a8frow4_col3 {\n",
       "            background-color:  #4257c9;\n",
       "            color:  #f1f1f1;\n",
       "        }    #T_66c036ba_9525_11ea_bc6b_e81132bf5a8frow4_col4 {\n",
       "            background-color:  #b40426;\n",
       "            color:  #f1f1f1;\n",
       "        }    #T_66c036ba_9525_11ea_bc6b_e81132bf5a8frow4_col5 {\n",
       "            background-color:  #4055c8;\n",
       "            color:  #f1f1f1;\n",
       "        }    #T_66c036ba_9525_11ea_bc6b_e81132bf5a8frow4_col6 {\n",
       "            background-color:  #445acc;\n",
       "            color:  #f1f1f1;\n",
       "        }    #T_66c036ba_9525_11ea_bc6b_e81132bf5a8frow4_col7 {\n",
       "            background-color:  #4055c8;\n",
       "            color:  #f1f1f1;\n",
       "        }    #T_66c036ba_9525_11ea_bc6b_e81132bf5a8frow4_col8 {\n",
       "            background-color:  #3d50c3;\n",
       "            color:  #f1f1f1;\n",
       "        }    #T_66c036ba_9525_11ea_bc6b_e81132bf5a8frow4_col9 {\n",
       "            background-color:  #455cce;\n",
       "            color:  #f1f1f1;\n",
       "        }    #T_66c036ba_9525_11ea_bc6b_e81132bf5a8frow4_col10 {\n",
       "            background-color:  #3d50c3;\n",
       "            color:  #f1f1f1;\n",
       "        }    #T_66c036ba_9525_11ea_bc6b_e81132bf5a8frow4_col11 {\n",
       "            background-color:  #3b4cc0;\n",
       "            color:  #f1f1f1;\n",
       "        }    #T_66c036ba_9525_11ea_bc6b_e81132bf5a8frow4_col12 {\n",
       "            background-color:  #3e51c5;\n",
       "            color:  #f1f1f1;\n",
       "        }    #T_66c036ba_9525_11ea_bc6b_e81132bf5a8frow4_col13 {\n",
       "            background-color:  #3b4cc0;\n",
       "            color:  #f1f1f1;\n",
       "        }    #T_66c036ba_9525_11ea_bc6b_e81132bf5a8frow4_col14 {\n",
       "            background-color:  #3b4cc0;\n",
       "            color:  #f1f1f1;\n",
       "        }    #T_66c036ba_9525_11ea_bc6b_e81132bf5a8frow5_col0 {\n",
       "            background-color:  #3d50c3;\n",
       "            color:  #f1f1f1;\n",
       "        }    #T_66c036ba_9525_11ea_bc6b_e81132bf5a8frow5_col1 {\n",
       "            background-color:  #455cce;\n",
       "            color:  #f1f1f1;\n",
       "        }    #T_66c036ba_9525_11ea_bc6b_e81132bf5a8frow5_col2 {\n",
       "            background-color:  #4257c9;\n",
       "            color:  #f1f1f1;\n",
       "        }    #T_66c036ba_9525_11ea_bc6b_e81132bf5a8frow5_col3 {\n",
       "            background-color:  #3b4cc0;\n",
       "            color:  #f1f1f1;\n",
       "        }    #T_66c036ba_9525_11ea_bc6b_e81132bf5a8frow5_col4 {\n",
       "            background-color:  #4257c9;\n",
       "            color:  #f1f1f1;\n",
       "        }    #T_66c036ba_9525_11ea_bc6b_e81132bf5a8frow5_col5 {\n",
       "            background-color:  #b40426;\n",
       "            color:  #f1f1f1;\n",
       "        }    #T_66c036ba_9525_11ea_bc6b_e81132bf5a8frow5_col6 {\n",
       "            background-color:  #3c4ec2;\n",
       "            color:  #f1f1f1;\n",
       "        }    #T_66c036ba_9525_11ea_bc6b_e81132bf5a8frow5_col7 {\n",
       "            background-color:  #b40426;\n",
       "            color:  #f1f1f1;\n",
       "        }    #T_66c036ba_9525_11ea_bc6b_e81132bf5a8frow5_col8 {\n",
       "            background-color:  #3c4ec2;\n",
       "            color:  #f1f1f1;\n",
       "        }    #T_66c036ba_9525_11ea_bc6b_e81132bf5a8frow5_col9 {\n",
       "            background-color:  #4055c8;\n",
       "            color:  #f1f1f1;\n",
       "        }    #T_66c036ba_9525_11ea_bc6b_e81132bf5a8frow5_col10 {\n",
       "            background-color:  #3c4ec2;\n",
       "            color:  #f1f1f1;\n",
       "        }    #T_66c036ba_9525_11ea_bc6b_e81132bf5a8frow5_col11 {\n",
       "            background-color:  #3e51c5;\n",
       "            color:  #f1f1f1;\n",
       "        }    #T_66c036ba_9525_11ea_bc6b_e81132bf5a8frow5_col12 {\n",
       "            background-color:  #445acc;\n",
       "            color:  #f1f1f1;\n",
       "        }    #T_66c036ba_9525_11ea_bc6b_e81132bf5a8frow5_col13 {\n",
       "            background-color:  #3e51c5;\n",
       "            color:  #f1f1f1;\n",
       "        }    #T_66c036ba_9525_11ea_bc6b_e81132bf5a8frow5_col14 {\n",
       "            background-color:  #3b4cc0;\n",
       "            color:  #f1f1f1;\n",
       "        }    #T_66c036ba_9525_11ea_bc6b_e81132bf5a8frow6_col0 {\n",
       "            background-color:  #4358cb;\n",
       "            color:  #f1f1f1;\n",
       "        }    #T_66c036ba_9525_11ea_bc6b_e81132bf5a8frow6_col1 {\n",
       "            background-color:  #3b4cc0;\n",
       "            color:  #f1f1f1;\n",
       "        }    #T_66c036ba_9525_11ea_bc6b_e81132bf5a8frow6_col2 {\n",
       "            background-color:  #4358cb;\n",
       "            color:  #f1f1f1;\n",
       "        }    #T_66c036ba_9525_11ea_bc6b_e81132bf5a8frow6_col3 {\n",
       "            background-color:  #4257c9;\n",
       "            color:  #f1f1f1;\n",
       "        }    #T_66c036ba_9525_11ea_bc6b_e81132bf5a8frow6_col4 {\n",
       "            background-color:  #4358cb;\n",
       "            color:  #f1f1f1;\n",
       "        }    #T_66c036ba_9525_11ea_bc6b_e81132bf5a8frow6_col5 {\n",
       "            background-color:  #3b4cc0;\n",
       "            color:  #f1f1f1;\n",
       "        }    #T_66c036ba_9525_11ea_bc6b_e81132bf5a8frow6_col6 {\n",
       "            background-color:  #b40426;\n",
       "            color:  #f1f1f1;\n",
       "        }    #T_66c036ba_9525_11ea_bc6b_e81132bf5a8frow6_col7 {\n",
       "            background-color:  #3b4cc0;\n",
       "            color:  #f1f1f1;\n",
       "        }    #T_66c036ba_9525_11ea_bc6b_e81132bf5a8frow6_col8 {\n",
       "            background-color:  #3e51c5;\n",
       "            color:  #f1f1f1;\n",
       "        }    #T_66c036ba_9525_11ea_bc6b_e81132bf5a8frow6_col9 {\n",
       "            background-color:  #3f53c6;\n",
       "            color:  #f1f1f1;\n",
       "        }    #T_66c036ba_9525_11ea_bc6b_e81132bf5a8frow6_col10 {\n",
       "            background-color:  #3e51c5;\n",
       "            color:  #f1f1f1;\n",
       "        }    #T_66c036ba_9525_11ea_bc6b_e81132bf5a8frow6_col11 {\n",
       "            background-color:  #3d50c3;\n",
       "            color:  #f1f1f1;\n",
       "        }    #T_66c036ba_9525_11ea_bc6b_e81132bf5a8frow6_col12 {\n",
       "            background-color:  #4257c9;\n",
       "            color:  #f1f1f1;\n",
       "        }    #T_66c036ba_9525_11ea_bc6b_e81132bf5a8frow6_col13 {\n",
       "            background-color:  #3d50c3;\n",
       "            color:  #f1f1f1;\n",
       "        }    #T_66c036ba_9525_11ea_bc6b_e81132bf5a8frow6_col14 {\n",
       "            background-color:  #3e51c5;\n",
       "            color:  #f1f1f1;\n",
       "        }    #T_66c036ba_9525_11ea_bc6b_e81132bf5a8frow7_col0 {\n",
       "            background-color:  #3d50c3;\n",
       "            color:  #f1f1f1;\n",
       "        }    #T_66c036ba_9525_11ea_bc6b_e81132bf5a8frow7_col1 {\n",
       "            background-color:  #455cce;\n",
       "            color:  #f1f1f1;\n",
       "        }    #T_66c036ba_9525_11ea_bc6b_e81132bf5a8frow7_col2 {\n",
       "            background-color:  #4257c9;\n",
       "            color:  #f1f1f1;\n",
       "        }    #T_66c036ba_9525_11ea_bc6b_e81132bf5a8frow7_col3 {\n",
       "            background-color:  #3b4cc0;\n",
       "            color:  #f1f1f1;\n",
       "        }    #T_66c036ba_9525_11ea_bc6b_e81132bf5a8frow7_col4 {\n",
       "            background-color:  #4257c9;\n",
       "            color:  #f1f1f1;\n",
       "        }    #T_66c036ba_9525_11ea_bc6b_e81132bf5a8frow7_col5 {\n",
       "            background-color:  #b40426;\n",
       "            color:  #f1f1f1;\n",
       "        }    #T_66c036ba_9525_11ea_bc6b_e81132bf5a8frow7_col6 {\n",
       "            background-color:  #3c4ec2;\n",
       "            color:  #f1f1f1;\n",
       "        }    #T_66c036ba_9525_11ea_bc6b_e81132bf5a8frow7_col7 {\n",
       "            background-color:  #b40426;\n",
       "            color:  #f1f1f1;\n",
       "        }    #T_66c036ba_9525_11ea_bc6b_e81132bf5a8frow7_col8 {\n",
       "            background-color:  #3c4ec2;\n",
       "            color:  #f1f1f1;\n",
       "        }    #T_66c036ba_9525_11ea_bc6b_e81132bf5a8frow7_col9 {\n",
       "            background-color:  #4055c8;\n",
       "            color:  #f1f1f1;\n",
       "        }    #T_66c036ba_9525_11ea_bc6b_e81132bf5a8frow7_col10 {\n",
       "            background-color:  #3c4ec2;\n",
       "            color:  #f1f1f1;\n",
       "        }    #T_66c036ba_9525_11ea_bc6b_e81132bf5a8frow7_col11 {\n",
       "            background-color:  #3e51c5;\n",
       "            color:  #f1f1f1;\n",
       "        }    #T_66c036ba_9525_11ea_bc6b_e81132bf5a8frow7_col12 {\n",
       "            background-color:  #445acc;\n",
       "            color:  #f1f1f1;\n",
       "        }    #T_66c036ba_9525_11ea_bc6b_e81132bf5a8frow7_col13 {\n",
       "            background-color:  #3e51c5;\n",
       "            color:  #f1f1f1;\n",
       "        }    #T_66c036ba_9525_11ea_bc6b_e81132bf5a8frow7_col14 {\n",
       "            background-color:  #3b4cc0;\n",
       "            color:  #f1f1f1;\n",
       "        }    #T_66c036ba_9525_11ea_bc6b_e81132bf5a8frow8_col0 {\n",
       "            background-color:  #3b4cc0;\n",
       "            color:  #f1f1f1;\n",
       "        }    #T_66c036ba_9525_11ea_bc6b_e81132bf5a8frow8_col1 {\n",
       "            background-color:  #3f53c6;\n",
       "            color:  #f1f1f1;\n",
       "        }    #T_66c036ba_9525_11ea_bc6b_e81132bf5a8frow8_col2 {\n",
       "            background-color:  #3d50c3;\n",
       "            color:  #f1f1f1;\n",
       "        }    #T_66c036ba_9525_11ea_bc6b_e81132bf5a8frow8_col3 {\n",
       "            background-color:  #445acc;\n",
       "            color:  #f1f1f1;\n",
       "        }    #T_66c036ba_9525_11ea_bc6b_e81132bf5a8frow8_col4 {\n",
       "            background-color:  #3d50c3;\n",
       "            color:  #f1f1f1;\n",
       "        }    #T_66c036ba_9525_11ea_bc6b_e81132bf5a8frow8_col5 {\n",
       "            background-color:  #3b4cc0;\n",
       "            color:  #f1f1f1;\n",
       "        }    #T_66c036ba_9525_11ea_bc6b_e81132bf5a8frow8_col6 {\n",
       "            background-color:  #3f53c6;\n",
       "            color:  #f1f1f1;\n",
       "        }    #T_66c036ba_9525_11ea_bc6b_e81132bf5a8frow8_col7 {\n",
       "            background-color:  #3b4cc0;\n",
       "            color:  #f1f1f1;\n",
       "        }    #T_66c036ba_9525_11ea_bc6b_e81132bf5a8frow8_col8 {\n",
       "            background-color:  #b40426;\n",
       "            color:  #f1f1f1;\n",
       "        }    #T_66c036ba_9525_11ea_bc6b_e81132bf5a8frow8_col9 {\n",
       "            background-color:  #4055c8;\n",
       "            color:  #f1f1f1;\n",
       "        }    #T_66c036ba_9525_11ea_bc6b_e81132bf5a8frow8_col10 {\n",
       "            background-color:  #b40426;\n",
       "            color:  #f1f1f1;\n",
       "        }    #T_66c036ba_9525_11ea_bc6b_e81132bf5a8frow8_col11 {\n",
       "            background-color:  #3b4cc0;\n",
       "            color:  #f1f1f1;\n",
       "        }    #T_66c036ba_9525_11ea_bc6b_e81132bf5a8frow8_col12 {\n",
       "            background-color:  #3e51c5;\n",
       "            color:  #f1f1f1;\n",
       "        }    #T_66c036ba_9525_11ea_bc6b_e81132bf5a8frow8_col13 {\n",
       "            background-color:  #3b4cc0;\n",
       "            color:  #f1f1f1;\n",
       "        }    #T_66c036ba_9525_11ea_bc6b_e81132bf5a8frow8_col14 {\n",
       "            background-color:  #3b4cc0;\n",
       "            color:  #f1f1f1;\n",
       "        }    #T_66c036ba_9525_11ea_bc6b_e81132bf5a8frow9_col0 {\n",
       "            background-color:  #3d50c3;\n",
       "            color:  #f1f1f1;\n",
       "        }    #T_66c036ba_9525_11ea_bc6b_e81132bf5a8frow9_col1 {\n",
       "            background-color:  #4358cb;\n",
       "            color:  #f1f1f1;\n",
       "        }    #T_66c036ba_9525_11ea_bc6b_e81132bf5a8frow9_col2 {\n",
       "            background-color:  #465ecf;\n",
       "            color:  #f1f1f1;\n",
       "        }    #T_66c036ba_9525_11ea_bc6b_e81132bf5a8frow9_col3 {\n",
       "            background-color:  #3b4cc0;\n",
       "            color:  #f1f1f1;\n",
       "        }    #T_66c036ba_9525_11ea_bc6b_e81132bf5a8frow9_col4 {\n",
       "            background-color:  #465ecf;\n",
       "            color:  #f1f1f1;\n",
       "        }    #T_66c036ba_9525_11ea_bc6b_e81132bf5a8frow9_col5 {\n",
       "            background-color:  #4055c8;\n",
       "            color:  #f1f1f1;\n",
       "        }    #T_66c036ba_9525_11ea_bc6b_e81132bf5a8frow9_col6 {\n",
       "            background-color:  #4055c8;\n",
       "            color:  #f1f1f1;\n",
       "        }    #T_66c036ba_9525_11ea_bc6b_e81132bf5a8frow9_col7 {\n",
       "            background-color:  #4055c8;\n",
       "            color:  #f1f1f1;\n",
       "        }    #T_66c036ba_9525_11ea_bc6b_e81132bf5a8frow9_col8 {\n",
       "            background-color:  #4257c9;\n",
       "            color:  #f1f1f1;\n",
       "        }    #T_66c036ba_9525_11ea_bc6b_e81132bf5a8frow9_col9 {\n",
       "            background-color:  #b40426;\n",
       "            color:  #f1f1f1;\n",
       "        }    #T_66c036ba_9525_11ea_bc6b_e81132bf5a8frow9_col10 {\n",
       "            background-color:  #4257c9;\n",
       "            color:  #f1f1f1;\n",
       "        }    #T_66c036ba_9525_11ea_bc6b_e81132bf5a8frow9_col11 {\n",
       "            background-color:  #3d50c3;\n",
       "            color:  #f1f1f1;\n",
       "        }    #T_66c036ba_9525_11ea_bc6b_e81132bf5a8frow9_col12 {\n",
       "            background-color:  #3e51c5;\n",
       "            color:  #f1f1f1;\n",
       "        }    #T_66c036ba_9525_11ea_bc6b_e81132bf5a8frow9_col13 {\n",
       "            background-color:  #3d50c3;\n",
       "            color:  #f1f1f1;\n",
       "        }    #T_66c036ba_9525_11ea_bc6b_e81132bf5a8frow9_col14 {\n",
       "            background-color:  #3d50c3;\n",
       "            color:  #f1f1f1;\n",
       "        }    #T_66c036ba_9525_11ea_bc6b_e81132bf5a8frow10_col0 {\n",
       "            background-color:  #3b4cc0;\n",
       "            color:  #f1f1f1;\n",
       "        }    #T_66c036ba_9525_11ea_bc6b_e81132bf5a8frow10_col1 {\n",
       "            background-color:  #3f53c6;\n",
       "            color:  #f1f1f1;\n",
       "        }    #T_66c036ba_9525_11ea_bc6b_e81132bf5a8frow10_col2 {\n",
       "            background-color:  #3d50c3;\n",
       "            color:  #f1f1f1;\n",
       "        }    #T_66c036ba_9525_11ea_bc6b_e81132bf5a8frow10_col3 {\n",
       "            background-color:  #445acc;\n",
       "            color:  #f1f1f1;\n",
       "        }    #T_66c036ba_9525_11ea_bc6b_e81132bf5a8frow10_col4 {\n",
       "            background-color:  #3d50c3;\n",
       "            color:  #f1f1f1;\n",
       "        }    #T_66c036ba_9525_11ea_bc6b_e81132bf5a8frow10_col5 {\n",
       "            background-color:  #3b4cc0;\n",
       "            color:  #f1f1f1;\n",
       "        }    #T_66c036ba_9525_11ea_bc6b_e81132bf5a8frow10_col6 {\n",
       "            background-color:  #3f53c6;\n",
       "            color:  #f1f1f1;\n",
       "        }    #T_66c036ba_9525_11ea_bc6b_e81132bf5a8frow10_col7 {\n",
       "            background-color:  #3b4cc0;\n",
       "            color:  #f1f1f1;\n",
       "        }    #T_66c036ba_9525_11ea_bc6b_e81132bf5a8frow10_col8 {\n",
       "            background-color:  #b40426;\n",
       "            color:  #f1f1f1;\n",
       "        }    #T_66c036ba_9525_11ea_bc6b_e81132bf5a8frow10_col9 {\n",
       "            background-color:  #4055c8;\n",
       "            color:  #f1f1f1;\n",
       "        }    #T_66c036ba_9525_11ea_bc6b_e81132bf5a8frow10_col10 {\n",
       "            background-color:  #b40426;\n",
       "            color:  #f1f1f1;\n",
       "        }    #T_66c036ba_9525_11ea_bc6b_e81132bf5a8frow10_col11 {\n",
       "            background-color:  #3b4cc0;\n",
       "            color:  #f1f1f1;\n",
       "        }    #T_66c036ba_9525_11ea_bc6b_e81132bf5a8frow10_col12 {\n",
       "            background-color:  #3e51c5;\n",
       "            color:  #f1f1f1;\n",
       "        }    #T_66c036ba_9525_11ea_bc6b_e81132bf5a8frow10_col13 {\n",
       "            background-color:  #3b4cc0;\n",
       "            color:  #f1f1f1;\n",
       "        }    #T_66c036ba_9525_11ea_bc6b_e81132bf5a8frow10_col14 {\n",
       "            background-color:  #3b4cc0;\n",
       "            color:  #f1f1f1;\n",
       "        }    #T_66c036ba_9525_11ea_bc6b_e81132bf5a8frow11_col0 {\n",
       "            background-color:  #445acc;\n",
       "            color:  #f1f1f1;\n",
       "        }    #T_66c036ba_9525_11ea_bc6b_e81132bf5a8frow11_col1 {\n",
       "            background-color:  #3e51c5;\n",
       "            color:  #f1f1f1;\n",
       "        }    #T_66c036ba_9525_11ea_bc6b_e81132bf5a8frow11_col2 {\n",
       "            background-color:  #3b4cc0;\n",
       "            color:  #f1f1f1;\n",
       "        }    #T_66c036ba_9525_11ea_bc6b_e81132bf5a8frow11_col3 {\n",
       "            background-color:  #445acc;\n",
       "            color:  #f1f1f1;\n",
       "        }    #T_66c036ba_9525_11ea_bc6b_e81132bf5a8frow11_col4 {\n",
       "            background-color:  #3b4cc0;\n",
       "            color:  #f1f1f1;\n",
       "        }    #T_66c036ba_9525_11ea_bc6b_e81132bf5a8frow11_col5 {\n",
       "            background-color:  #3e51c5;\n",
       "            color:  #f1f1f1;\n",
       "        }    #T_66c036ba_9525_11ea_bc6b_e81132bf5a8frow11_col6 {\n",
       "            background-color:  #3f53c6;\n",
       "            color:  #f1f1f1;\n",
       "        }    #T_66c036ba_9525_11ea_bc6b_e81132bf5a8frow11_col7 {\n",
       "            background-color:  #3e51c5;\n",
       "            color:  #f1f1f1;\n",
       "        }    #T_66c036ba_9525_11ea_bc6b_e81132bf5a8frow11_col8 {\n",
       "            background-color:  #3c4ec2;\n",
       "            color:  #f1f1f1;\n",
       "        }    #T_66c036ba_9525_11ea_bc6b_e81132bf5a8frow11_col9 {\n",
       "            background-color:  #3d50c3;\n",
       "            color:  #f1f1f1;\n",
       "        }    #T_66c036ba_9525_11ea_bc6b_e81132bf5a8frow11_col10 {\n",
       "            background-color:  #3c4ec2;\n",
       "            color:  #f1f1f1;\n",
       "        }    #T_66c036ba_9525_11ea_bc6b_e81132bf5a8frow11_col11 {\n",
       "            background-color:  #b40426;\n",
       "            color:  #f1f1f1;\n",
       "        }    #T_66c036ba_9525_11ea_bc6b_e81132bf5a8frow11_col12 {\n",
       "            background-color:  #445acc;\n",
       "            color:  #f1f1f1;\n",
       "        }    #T_66c036ba_9525_11ea_bc6b_e81132bf5a8frow11_col13 {\n",
       "            background-color:  #b40426;\n",
       "            color:  #f1f1f1;\n",
       "        }    #T_66c036ba_9525_11ea_bc6b_e81132bf5a8frow11_col14 {\n",
       "            background-color:  #3b4cc0;\n",
       "            color:  #f1f1f1;\n",
       "        }    #T_66c036ba_9525_11ea_bc6b_e81132bf5a8frow12_col0 {\n",
       "            background-color:  #4358cb;\n",
       "            color:  #f1f1f1;\n",
       "        }    #T_66c036ba_9525_11ea_bc6b_e81132bf5a8frow12_col1 {\n",
       "            background-color:  #3d50c3;\n",
       "            color:  #f1f1f1;\n",
       "        }    #T_66c036ba_9525_11ea_bc6b_e81132bf5a8frow12_col2 {\n",
       "            background-color:  #3b4cc0;\n",
       "            color:  #f1f1f1;\n",
       "        }    #T_66c036ba_9525_11ea_bc6b_e81132bf5a8frow12_col3 {\n",
       "            background-color:  #3c4ec2;\n",
       "            color:  #f1f1f1;\n",
       "        }    #T_66c036ba_9525_11ea_bc6b_e81132bf5a8frow12_col4 {\n",
       "            background-color:  #3b4cc0;\n",
       "            color:  #f1f1f1;\n",
       "        }    #T_66c036ba_9525_11ea_bc6b_e81132bf5a8frow12_col5 {\n",
       "            background-color:  #3f53c6;\n",
       "            color:  #f1f1f1;\n",
       "        }    #T_66c036ba_9525_11ea_bc6b_e81132bf5a8frow12_col6 {\n",
       "            background-color:  #3f53c6;\n",
       "            color:  #f1f1f1;\n",
       "        }    #T_66c036ba_9525_11ea_bc6b_e81132bf5a8frow12_col7 {\n",
       "            background-color:  #3f53c6;\n",
       "            color:  #f1f1f1;\n",
       "        }    #T_66c036ba_9525_11ea_bc6b_e81132bf5a8frow12_col8 {\n",
       "            background-color:  #3b4cc0;\n",
       "            color:  #f1f1f1;\n",
       "        }    #T_66c036ba_9525_11ea_bc6b_e81132bf5a8frow12_col9 {\n",
       "            background-color:  #3b4cc0;\n",
       "            color:  #f1f1f1;\n",
       "        }    #T_66c036ba_9525_11ea_bc6b_e81132bf5a8frow12_col10 {\n",
       "            background-color:  #3b4cc0;\n",
       "            color:  #f1f1f1;\n",
       "        }    #T_66c036ba_9525_11ea_bc6b_e81132bf5a8frow12_col11 {\n",
       "            background-color:  #4055c8;\n",
       "            color:  #f1f1f1;\n",
       "        }    #T_66c036ba_9525_11ea_bc6b_e81132bf5a8frow12_col12 {\n",
       "            background-color:  #b40426;\n",
       "            color:  #f1f1f1;\n",
       "        }    #T_66c036ba_9525_11ea_bc6b_e81132bf5a8frow12_col13 {\n",
       "            background-color:  #4055c8;\n",
       "            color:  #f1f1f1;\n",
       "        }    #T_66c036ba_9525_11ea_bc6b_e81132bf5a8frow12_col14 {\n",
       "            background-color:  #3b4cc0;\n",
       "            color:  #f1f1f1;\n",
       "        }    #T_66c036ba_9525_11ea_bc6b_e81132bf5a8frow13_col0 {\n",
       "            background-color:  #445acc;\n",
       "            color:  #f1f1f1;\n",
       "        }    #T_66c036ba_9525_11ea_bc6b_e81132bf5a8frow13_col1 {\n",
       "            background-color:  #3e51c5;\n",
       "            color:  #f1f1f1;\n",
       "        }    #T_66c036ba_9525_11ea_bc6b_e81132bf5a8frow13_col2 {\n",
       "            background-color:  #3b4cc0;\n",
       "            color:  #f1f1f1;\n",
       "        }    #T_66c036ba_9525_11ea_bc6b_e81132bf5a8frow13_col3 {\n",
       "            background-color:  #445acc;\n",
       "            color:  #f1f1f1;\n",
       "        }    #T_66c036ba_9525_11ea_bc6b_e81132bf5a8frow13_col4 {\n",
       "            background-color:  #3b4cc0;\n",
       "            color:  #f1f1f1;\n",
       "        }    #T_66c036ba_9525_11ea_bc6b_e81132bf5a8frow13_col5 {\n",
       "            background-color:  #3e51c5;\n",
       "            color:  #f1f1f1;\n",
       "        }    #T_66c036ba_9525_11ea_bc6b_e81132bf5a8frow13_col6 {\n",
       "            background-color:  #3f53c6;\n",
       "            color:  #f1f1f1;\n",
       "        }    #T_66c036ba_9525_11ea_bc6b_e81132bf5a8frow13_col7 {\n",
       "            background-color:  #3e51c5;\n",
       "            color:  #f1f1f1;\n",
       "        }    #T_66c036ba_9525_11ea_bc6b_e81132bf5a8frow13_col8 {\n",
       "            background-color:  #3c4ec2;\n",
       "            color:  #f1f1f1;\n",
       "        }    #T_66c036ba_9525_11ea_bc6b_e81132bf5a8frow13_col9 {\n",
       "            background-color:  #3d50c3;\n",
       "            color:  #f1f1f1;\n",
       "        }    #T_66c036ba_9525_11ea_bc6b_e81132bf5a8frow13_col10 {\n",
       "            background-color:  #3c4ec2;\n",
       "            color:  #f1f1f1;\n",
       "        }    #T_66c036ba_9525_11ea_bc6b_e81132bf5a8frow13_col11 {\n",
       "            background-color:  #b40426;\n",
       "            color:  #f1f1f1;\n",
       "        }    #T_66c036ba_9525_11ea_bc6b_e81132bf5a8frow13_col12 {\n",
       "            background-color:  #445acc;\n",
       "            color:  #f1f1f1;\n",
       "        }    #T_66c036ba_9525_11ea_bc6b_e81132bf5a8frow13_col13 {\n",
       "            background-color:  #b40426;\n",
       "            color:  #f1f1f1;\n",
       "        }    #T_66c036ba_9525_11ea_bc6b_e81132bf5a8frow13_col14 {\n",
       "            background-color:  #3b4cc0;\n",
       "            color:  #f1f1f1;\n",
       "        }    #T_66c036ba_9525_11ea_bc6b_e81132bf5a8frow14_col0 {\n",
       "            background-color:  #3e51c5;\n",
       "            color:  #f1f1f1;\n",
       "        }    #T_66c036ba_9525_11ea_bc6b_e81132bf5a8frow14_col1 {\n",
       "            background-color:  #3b4cc0;\n",
       "            color:  #f1f1f1;\n",
       "        }    #T_66c036ba_9525_11ea_bc6b_e81132bf5a8frow14_col2 {\n",
       "            background-color:  #3c4ec2;\n",
       "            color:  #f1f1f1;\n",
       "        }    #T_66c036ba_9525_11ea_bc6b_e81132bf5a8frow14_col3 {\n",
       "            background-color:  #3b4cc0;\n",
       "            color:  #f1f1f1;\n",
       "        }    #T_66c036ba_9525_11ea_bc6b_e81132bf5a8frow14_col4 {\n",
       "            background-color:  #3c4ec2;\n",
       "            color:  #f1f1f1;\n",
       "        }    #T_66c036ba_9525_11ea_bc6b_e81132bf5a8frow14_col5 {\n",
       "            background-color:  #3b4cc0;\n",
       "            color:  #f1f1f1;\n",
       "        }    #T_66c036ba_9525_11ea_bc6b_e81132bf5a8frow14_col6 {\n",
       "            background-color:  #4055c8;\n",
       "            color:  #f1f1f1;\n",
       "        }    #T_66c036ba_9525_11ea_bc6b_e81132bf5a8frow14_col7 {\n",
       "            background-color:  #3b4cc0;\n",
       "            color:  #f1f1f1;\n",
       "        }    #T_66c036ba_9525_11ea_bc6b_e81132bf5a8frow14_col8 {\n",
       "            background-color:  #3d50c3;\n",
       "            color:  #f1f1f1;\n",
       "        }    #T_66c036ba_9525_11ea_bc6b_e81132bf5a8frow14_col9 {\n",
       "            background-color:  #3e51c5;\n",
       "            color:  #f1f1f1;\n",
       "        }    #T_66c036ba_9525_11ea_bc6b_e81132bf5a8frow14_col10 {\n",
       "            background-color:  #3d50c3;\n",
       "            color:  #f1f1f1;\n",
       "        }    #T_66c036ba_9525_11ea_bc6b_e81132bf5a8frow14_col11 {\n",
       "            background-color:  #3b4cc0;\n",
       "            color:  #f1f1f1;\n",
       "        }    #T_66c036ba_9525_11ea_bc6b_e81132bf5a8frow14_col12 {\n",
       "            background-color:  #4055c8;\n",
       "            color:  #f1f1f1;\n",
       "        }    #T_66c036ba_9525_11ea_bc6b_e81132bf5a8frow14_col13 {\n",
       "            background-color:  #3b4cc0;\n",
       "            color:  #f1f1f1;\n",
       "        }    #T_66c036ba_9525_11ea_bc6b_e81132bf5a8frow14_col14 {\n",
       "            background-color:  #b40426;\n",
       "            color:  #f1f1f1;\n",
       "        }</style><table id=\"T_66c036ba_9525_11ea_bc6b_e81132bf5a8f\" ><thead>    <tr>        <th class=\"blank level0\" ></th>        <th class=\"col_heading level0 col0\" >tempo_conta</th>        <th class=\"col_heading level0 col1\" >qtd_msg_vmail</th>        <th class=\"col_heading level0 col2\" >qtd_dias_min</th>        <th class=\"col_heading level0 col3\" >qtd_dias_lig</th>        <th class=\"col_heading level0 col4\" >custo_dia</th>        <th class=\"col_heading level0 col5\" >qtd_vesp_min</th>        <th class=\"col_heading level0 col6\" >qtd_vesp_lig</th>        <th class=\"col_heading level0 col7\" >custo_vesp</th>        <th class=\"col_heading level0 col8\" >qtd_min_noite</th>        <th class=\"col_heading level0 col9\" >qtd_lig_noite</th>        <th class=\"col_heading level0 col10\" >custo_noite</th>        <th class=\"col_heading level0 col11\" >minutos_total</th>        <th class=\"col_heading level0 col12\" >lig_total</th>        <th class=\"col_heading level0 col13\" >custo_total</th>        <th class=\"col_heading level0 col14\" >lig_call_center</th>    </tr></thead><tbody>\n",
       "                <tr>\n",
       "                        <th id=\"T_66c036ba_9525_11ea_bc6b_e81132bf5a8flevel0_row0\" class=\"row_heading level0 row0\" >tempo_conta</th>\n",
       "                        <td id=\"T_66c036ba_9525_11ea_bc6b_e81132bf5a8frow0_col0\" class=\"data row0 col0\" >1.0</td>\n",
       "                        <td id=\"T_66c036ba_9525_11ea_bc6b_e81132bf5a8frow0_col1\" class=\"data row0 col1\" >0.0031</td>\n",
       "                        <td id=\"T_66c036ba_9525_11ea_bc6b_e81132bf5a8frow0_col2\" class=\"data row0 col2\" >0.018</td>\n",
       "                        <td id=\"T_66c036ba_9525_11ea_bc6b_e81132bf5a8frow0_col3\" class=\"data row0 col3\" >0.033</td>\n",
       "                        <td id=\"T_66c036ba_9525_11ea_bc6b_e81132bf5a8frow0_col4\" class=\"data row0 col4\" >0.018</td>\n",
       "                        <td id=\"T_66c036ba_9525_11ea_bc6b_e81132bf5a8frow0_col5\" class=\"data row0 col5\" >-0.008</td>\n",
       "                        <td id=\"T_66c036ba_9525_11ea_bc6b_e81132bf5a8frow0_col6\" class=\"data row0 col6\" >0.018</td>\n",
       "                        <td id=\"T_66c036ba_9525_11ea_bc6b_e81132bf5a8frow0_col7\" class=\"data row0 col7\" >-0.008</td>\n",
       "                        <td id=\"T_66c036ba_9525_11ea_bc6b_e81132bf5a8frow0_col8\" class=\"data row0 col8\" >-0.014</td>\n",
       "                        <td id=\"T_66c036ba_9525_11ea_bc6b_e81132bf5a8frow0_col9\" class=\"data row0 col9\" >-0.0077</td>\n",
       "                        <td id=\"T_66c036ba_9525_11ea_bc6b_e81132bf5a8frow0_col10\" class=\"data row0 col10\" >-0.014</td>\n",
       "                        <td id=\"T_66c036ba_9525_11ea_bc6b_e81132bf5a8frow0_col11\" class=\"data row0 col11\" >0.015</td>\n",
       "                        <td id=\"T_66c036ba_9525_11ea_bc6b_e81132bf5a8frow0_col12\" class=\"data row0 col12\" >0.027</td>\n",
       "                        <td id=\"T_66c036ba_9525_11ea_bc6b_e81132bf5a8frow0_col13\" class=\"data row0 col13\" >0.015</td>\n",
       "                        <td id=\"T_66c036ba_9525_11ea_bc6b_e81132bf5a8frow0_col14\" class=\"data row0 col14\" >-0.0059</td>\n",
       "            </tr>\n",
       "            <tr>\n",
       "                        <th id=\"T_66c036ba_9525_11ea_bc6b_e81132bf5a8flevel0_row1\" class=\"row_heading level0 row1\" >qtd_msg_vmail</th>\n",
       "                        <td id=\"T_66c036ba_9525_11ea_bc6b_e81132bf5a8frow1_col0\" class=\"data row1 col0\" >0.0031</td>\n",
       "                        <td id=\"T_66c036ba_9525_11ea_bc6b_e81132bf5a8frow1_col1\" class=\"data row1 col1\" >1.0</td>\n",
       "                        <td id=\"T_66c036ba_9525_11ea_bc6b_e81132bf5a8frow1_col2\" class=\"data row1 col2\" >0.004</td>\n",
       "                        <td id=\"T_66c036ba_9525_11ea_bc6b_e81132bf5a8frow1_col3\" class=\"data row1 col3\" >-0.012</td>\n",
       "                        <td id=\"T_66c036ba_9525_11ea_bc6b_e81132bf5a8frow1_col4\" class=\"data row1 col4\" >0.004</td>\n",
       "                        <td id=\"T_66c036ba_9525_11ea_bc6b_e81132bf5a8frow1_col5\" class=\"data row1 col5\" >0.021</td>\n",
       "                        <td id=\"T_66c036ba_9525_11ea_bc6b_e81132bf5a8frow1_col6\" class=\"data row1 col6\" >-0.0071</td>\n",
       "                        <td id=\"T_66c036ba_9525_11ea_bc6b_e81132bf5a8frow1_col7\" class=\"data row1 col7\" >0.021</td>\n",
       "                        <td id=\"T_66c036ba_9525_11ea_bc6b_e81132bf5a8frow1_col8\" class=\"data row1 col8\" >0.0051</td>\n",
       "                        <td id=\"T_66c036ba_9525_11ea_bc6b_e81132bf5a8frow1_col9\" class=\"data row1 col9\" >0.011</td>\n",
       "                        <td id=\"T_66c036ba_9525_11ea_bc6b_e81132bf5a8frow1_col10\" class=\"data row1 col10\" >0.005</td>\n",
       "                        <td id=\"T_66c036ba_9525_11ea_bc6b_e81132bf5a8frow1_col11\" class=\"data row1 col11\" >-0.0016</td>\n",
       "                        <td id=\"T_66c036ba_9525_11ea_bc6b_e81132bf5a8frow1_col12\" class=\"data row1 col12\" >0.0062</td>\n",
       "                        <td id=\"T_66c036ba_9525_11ea_bc6b_e81132bf5a8frow1_col13\" class=\"data row1 col13\" >-0.0016</td>\n",
       "                        <td id=\"T_66c036ba_9525_11ea_bc6b_e81132bf5a8frow1_col14\" class=\"data row1 col14\" >-0.02</td>\n",
       "            </tr>\n",
       "            <tr>\n",
       "                        <th id=\"T_66c036ba_9525_11ea_bc6b_e81132bf5a8flevel0_row2\" class=\"row_heading level0 row2\" >qtd_dias_min</th>\n",
       "                        <td id=\"T_66c036ba_9525_11ea_bc6b_e81132bf5a8frow2_col0\" class=\"data row2 col0\" >0.018</td>\n",
       "                        <td id=\"T_66c036ba_9525_11ea_bc6b_e81132bf5a8frow2_col1\" class=\"data row2 col1\" >0.004</td>\n",
       "                        <td id=\"T_66c036ba_9525_11ea_bc6b_e81132bf5a8frow2_col2\" class=\"data row2 col2\" >1.0</td>\n",
       "                        <td id=\"T_66c036ba_9525_11ea_bc6b_e81132bf5a8frow2_col3\" class=\"data row2 col3\" >0.0094</td>\n",
       "                        <td id=\"T_66c036ba_9525_11ea_bc6b_e81132bf5a8frow2_col4\" class=\"data row2 col4\" >1.0</td>\n",
       "                        <td id=\"T_66c036ba_9525_11ea_bc6b_e81132bf5a8frow2_col5\" class=\"data row2 col5\" >0.0064</td>\n",
       "                        <td id=\"T_66c036ba_9525_11ea_bc6b_e81132bf5a8frow2_col6\" class=\"data row2 col6\" >0.018</td>\n",
       "                        <td id=\"T_66c036ba_9525_11ea_bc6b_e81132bf5a8frow2_col7\" class=\"data row2 col7\" >0.0064</td>\n",
       "                        <td id=\"T_66c036ba_9525_11ea_bc6b_e81132bf5a8frow2_col8\" class=\"data row2 col8\" >-0.0057</td>\n",
       "                        <td id=\"T_66c036ba_9525_11ea_bc6b_e81132bf5a8frow2_col9\" class=\"data row2 col9\" >0.023</td>\n",
       "                        <td id=\"T_66c036ba_9525_11ea_bc6b_e81132bf5a8frow2_col10\" class=\"data row2 col10\" >-0.0057</td>\n",
       "                        <td id=\"T_66c036ba_9525_11ea_bc6b_e81132bf5a8frow2_col11\" class=\"data row2 col11\" >-0.016</td>\n",
       "                        <td id=\"T_66c036ba_9525_11ea_bc6b_e81132bf5a8frow2_col12\" class=\"data row2 col12\" >-0.00029</td>\n",
       "                        <td id=\"T_66c036ba_9525_11ea_bc6b_e81132bf5a8frow2_col13\" class=\"data row2 col13\" >-0.016</td>\n",
       "                        <td id=\"T_66c036ba_9525_11ea_bc6b_e81132bf5a8frow2_col14\" class=\"data row2 col14\" >-0.015</td>\n",
       "            </tr>\n",
       "            <tr>\n",
       "                        <th id=\"T_66c036ba_9525_11ea_bc6b_e81132bf5a8flevel0_row3\" class=\"row_heading level0 row3\" >qtd_dias_lig</th>\n",
       "                        <td id=\"T_66c036ba_9525_11ea_bc6b_e81132bf5a8frow3_col0\" class=\"data row3 col0\" >0.033</td>\n",
       "                        <td id=\"T_66c036ba_9525_11ea_bc6b_e81132bf5a8frow3_col1\" class=\"data row3 col1\" >-0.012</td>\n",
       "                        <td id=\"T_66c036ba_9525_11ea_bc6b_e81132bf5a8frow3_col2\" class=\"data row3 col2\" >0.0094</td>\n",
       "                        <td id=\"T_66c036ba_9525_11ea_bc6b_e81132bf5a8frow3_col3\" class=\"data row3 col3\" >1.0</td>\n",
       "                        <td id=\"T_66c036ba_9525_11ea_bc6b_e81132bf5a8frow3_col4\" class=\"data row3 col4\" >0.0094</td>\n",
       "                        <td id=\"T_66c036ba_9525_11ea_bc6b_e81132bf5a8frow3_col5\" class=\"data row3 col5\" >-0.014</td>\n",
       "                        <td id=\"T_66c036ba_9525_11ea_bc6b_e81132bf5a8frow3_col6\" class=\"data row3 col6\" >0.014</td>\n",
       "                        <td id=\"T_66c036ba_9525_11ea_bc6b_e81132bf5a8frow3_col7\" class=\"data row3 col7\" >-0.014</td>\n",
       "                        <td id=\"T_66c036ba_9525_11ea_bc6b_e81132bf5a8frow3_col8\" class=\"data row3 col8\" >0.019</td>\n",
       "                        <td id=\"T_66c036ba_9525_11ea_bc6b_e81132bf5a8frow3_col9\" class=\"data row3 col9\" >-0.018</td>\n",
       "                        <td id=\"T_66c036ba_9525_11ea_bc6b_e81132bf5a8frow3_col10\" class=\"data row3 col10\" >0.019</td>\n",
       "                        <td id=\"T_66c036ba_9525_11ea_bc6b_e81132bf5a8frow3_col11\" class=\"data row3 col11\" >0.015</td>\n",
       "                        <td id=\"T_66c036ba_9525_11ea_bc6b_e81132bf5a8frow3_col12\" class=\"data row3 col12\" >0.0041</td>\n",
       "                        <td id=\"T_66c036ba_9525_11ea_bc6b_e81132bf5a8frow3_col13\" class=\"data row3 col13\" >0.015</td>\n",
       "                        <td id=\"T_66c036ba_9525_11ea_bc6b_e81132bf5a8frow3_col14\" class=\"data row3 col14\" >-0.021</td>\n",
       "            </tr>\n",
       "            <tr>\n",
       "                        <th id=\"T_66c036ba_9525_11ea_bc6b_e81132bf5a8flevel0_row4\" class=\"row_heading level0 row4\" >custo_dia</th>\n",
       "                        <td id=\"T_66c036ba_9525_11ea_bc6b_e81132bf5a8frow4_col0\" class=\"data row4 col0\" >0.018</td>\n",
       "                        <td id=\"T_66c036ba_9525_11ea_bc6b_e81132bf5a8frow4_col1\" class=\"data row4 col1\" >0.004</td>\n",
       "                        <td id=\"T_66c036ba_9525_11ea_bc6b_e81132bf5a8frow4_col2\" class=\"data row4 col2\" >1.0</td>\n",
       "                        <td id=\"T_66c036ba_9525_11ea_bc6b_e81132bf5a8frow4_col3\" class=\"data row4 col3\" >0.0094</td>\n",
       "                        <td id=\"T_66c036ba_9525_11ea_bc6b_e81132bf5a8frow4_col4\" class=\"data row4 col4\" >1.0</td>\n",
       "                        <td id=\"T_66c036ba_9525_11ea_bc6b_e81132bf5a8frow4_col5\" class=\"data row4 col5\" >0.0064</td>\n",
       "                        <td id=\"T_66c036ba_9525_11ea_bc6b_e81132bf5a8frow4_col6\" class=\"data row4 col6\" >0.018</td>\n",
       "                        <td id=\"T_66c036ba_9525_11ea_bc6b_e81132bf5a8frow4_col7\" class=\"data row4 col7\" >0.0064</td>\n",
       "                        <td id=\"T_66c036ba_9525_11ea_bc6b_e81132bf5a8frow4_col8\" class=\"data row4 col8\" >-0.0057</td>\n",
       "                        <td id=\"T_66c036ba_9525_11ea_bc6b_e81132bf5a8frow4_col9\" class=\"data row4 col9\" >0.023</td>\n",
       "                        <td id=\"T_66c036ba_9525_11ea_bc6b_e81132bf5a8frow4_col10\" class=\"data row4 col10\" >-0.0057</td>\n",
       "                        <td id=\"T_66c036ba_9525_11ea_bc6b_e81132bf5a8frow4_col11\" class=\"data row4 col11\" >-0.016</td>\n",
       "                        <td id=\"T_66c036ba_9525_11ea_bc6b_e81132bf5a8frow4_col12\" class=\"data row4 col12\" >-0.00029</td>\n",
       "                        <td id=\"T_66c036ba_9525_11ea_bc6b_e81132bf5a8frow4_col13\" class=\"data row4 col13\" >-0.016</td>\n",
       "                        <td id=\"T_66c036ba_9525_11ea_bc6b_e81132bf5a8frow4_col14\" class=\"data row4 col14\" >-0.015</td>\n",
       "            </tr>\n",
       "            <tr>\n",
       "                        <th id=\"T_66c036ba_9525_11ea_bc6b_e81132bf5a8flevel0_row5\" class=\"row_heading level0 row5\" >qtd_vesp_min</th>\n",
       "                        <td id=\"T_66c036ba_9525_11ea_bc6b_e81132bf5a8frow5_col0\" class=\"data row5 col0\" >-0.008</td>\n",
       "                        <td id=\"T_66c036ba_9525_11ea_bc6b_e81132bf5a8frow5_col1\" class=\"data row5 col1\" >0.021</td>\n",
       "                        <td id=\"T_66c036ba_9525_11ea_bc6b_e81132bf5a8frow5_col2\" class=\"data row5 col2\" >0.0064</td>\n",
       "                        <td id=\"T_66c036ba_9525_11ea_bc6b_e81132bf5a8frow5_col3\" class=\"data row5 col3\" >-0.014</td>\n",
       "                        <td id=\"T_66c036ba_9525_11ea_bc6b_e81132bf5a8frow5_col4\" class=\"data row5 col4\" >0.0064</td>\n",
       "                        <td id=\"T_66c036ba_9525_11ea_bc6b_e81132bf5a8frow5_col5\" class=\"data row5 col5\" >1.0</td>\n",
       "                        <td id=\"T_66c036ba_9525_11ea_bc6b_e81132bf5a8frow5_col6\" class=\"data row5 col6\" >-0.01</td>\n",
       "                        <td id=\"T_66c036ba_9525_11ea_bc6b_e81132bf5a8frow5_col7\" class=\"data row5 col7\" >1.0</td>\n",
       "                        <td id=\"T_66c036ba_9525_11ea_bc6b_e81132bf5a8frow5_col8\" class=\"data row5 col8\" >-0.013</td>\n",
       "                        <td id=\"T_66c036ba_9525_11ea_bc6b_e81132bf5a8frow5_col9\" class=\"data row5 col9\" >0.0034</td>\n",
       "                        <td id=\"T_66c036ba_9525_11ea_bc6b_e81132bf5a8frow5_col10\" class=\"data row5 col10\" >-0.013</td>\n",
       "                        <td id=\"T_66c036ba_9525_11ea_bc6b_e81132bf5a8frow5_col11\" class=\"data row5 col11\" >-0.0032</td>\n",
       "                        <td id=\"T_66c036ba_9525_11ea_bc6b_e81132bf5a8frow5_col12\" class=\"data row5 col12\" >0.014</td>\n",
       "                        <td id=\"T_66c036ba_9525_11ea_bc6b_e81132bf5a8frow5_col13\" class=\"data row5 col13\" >-0.0032</td>\n",
       "                        <td id=\"T_66c036ba_9525_11ea_bc6b_e81132bf5a8frow5_col14\" class=\"data row5 col14\" >-0.018</td>\n",
       "            </tr>\n",
       "            <tr>\n",
       "                        <th id=\"T_66c036ba_9525_11ea_bc6b_e81132bf5a8flevel0_row6\" class=\"row_heading level0 row6\" >qtd_vesp_lig</th>\n",
       "                        <td id=\"T_66c036ba_9525_11ea_bc6b_e81132bf5a8frow6_col0\" class=\"data row6 col0\" >0.018</td>\n",
       "                        <td id=\"T_66c036ba_9525_11ea_bc6b_e81132bf5a8frow6_col1\" class=\"data row6 col1\" >-0.0071</td>\n",
       "                        <td id=\"T_66c036ba_9525_11ea_bc6b_e81132bf5a8frow6_col2\" class=\"data row6 col2\" >0.018</td>\n",
       "                        <td id=\"T_66c036ba_9525_11ea_bc6b_e81132bf5a8frow6_col3\" class=\"data row6 col3\" >0.014</td>\n",
       "                        <td id=\"T_66c036ba_9525_11ea_bc6b_e81132bf5a8frow6_col4\" class=\"data row6 col4\" >0.018</td>\n",
       "                        <td id=\"T_66c036ba_9525_11ea_bc6b_e81132bf5a8frow6_col5\" class=\"data row6 col5\" >-0.01</td>\n",
       "                        <td id=\"T_66c036ba_9525_11ea_bc6b_e81132bf5a8frow6_col6\" class=\"data row6 col6\" >1.0</td>\n",
       "                        <td id=\"T_66c036ba_9525_11ea_bc6b_e81132bf5a8frow6_col7\" class=\"data row6 col7\" >-0.01</td>\n",
       "                        <td id=\"T_66c036ba_9525_11ea_bc6b_e81132bf5a8frow6_col8\" class=\"data row6 col8\" >0.0049</td>\n",
       "                        <td id=\"T_66c036ba_9525_11ea_bc6b_e81132bf5a8frow6_col9\" class=\"data row6 col9\" >0.0056</td>\n",
       "                        <td id=\"T_66c036ba_9525_11ea_bc6b_e81132bf5a8frow6_col10\" class=\"data row6 col10\" >0.0049</td>\n",
       "                        <td id=\"T_66c036ba_9525_11ea_bc6b_e81132bf5a8frow6_col11\" class=\"data row6 col11\" >0.00021</td>\n",
       "                        <td id=\"T_66c036ba_9525_11ea_bc6b_e81132bf5a8frow6_col12\" class=\"data row6 col12\" >0.015</td>\n",
       "                        <td id=\"T_66c036ba_9525_11ea_bc6b_e81132bf5a8frow6_col13\" class=\"data row6 col13\" >0.00021</td>\n",
       "                        <td id=\"T_66c036ba_9525_11ea_bc6b_e81132bf5a8frow6_col14\" class=\"data row6 col14\" >0.0027</td>\n",
       "            </tr>\n",
       "            <tr>\n",
       "                        <th id=\"T_66c036ba_9525_11ea_bc6b_e81132bf5a8flevel0_row7\" class=\"row_heading level0 row7\" >custo_vesp</th>\n",
       "                        <td id=\"T_66c036ba_9525_11ea_bc6b_e81132bf5a8frow7_col0\" class=\"data row7 col0\" >-0.008</td>\n",
       "                        <td id=\"T_66c036ba_9525_11ea_bc6b_e81132bf5a8frow7_col1\" class=\"data row7 col1\" >0.021</td>\n",
       "                        <td id=\"T_66c036ba_9525_11ea_bc6b_e81132bf5a8frow7_col2\" class=\"data row7 col2\" >0.0064</td>\n",
       "                        <td id=\"T_66c036ba_9525_11ea_bc6b_e81132bf5a8frow7_col3\" class=\"data row7 col3\" >-0.014</td>\n",
       "                        <td id=\"T_66c036ba_9525_11ea_bc6b_e81132bf5a8frow7_col4\" class=\"data row7 col4\" >0.0064</td>\n",
       "                        <td id=\"T_66c036ba_9525_11ea_bc6b_e81132bf5a8frow7_col5\" class=\"data row7 col5\" >1.0</td>\n",
       "                        <td id=\"T_66c036ba_9525_11ea_bc6b_e81132bf5a8frow7_col6\" class=\"data row7 col6\" >-0.01</td>\n",
       "                        <td id=\"T_66c036ba_9525_11ea_bc6b_e81132bf5a8frow7_col7\" class=\"data row7 col7\" >1.0</td>\n",
       "                        <td id=\"T_66c036ba_9525_11ea_bc6b_e81132bf5a8frow7_col8\" class=\"data row7 col8\" >-0.013</td>\n",
       "                        <td id=\"T_66c036ba_9525_11ea_bc6b_e81132bf5a8frow7_col9\" class=\"data row7 col9\" >0.0034</td>\n",
       "                        <td id=\"T_66c036ba_9525_11ea_bc6b_e81132bf5a8frow7_col10\" class=\"data row7 col10\" >-0.013</td>\n",
       "                        <td id=\"T_66c036ba_9525_11ea_bc6b_e81132bf5a8frow7_col11\" class=\"data row7 col11\" >-0.0032</td>\n",
       "                        <td id=\"T_66c036ba_9525_11ea_bc6b_e81132bf5a8frow7_col12\" class=\"data row7 col12\" >0.014</td>\n",
       "                        <td id=\"T_66c036ba_9525_11ea_bc6b_e81132bf5a8frow7_col13\" class=\"data row7 col13\" >-0.0032</td>\n",
       "                        <td id=\"T_66c036ba_9525_11ea_bc6b_e81132bf5a8frow7_col14\" class=\"data row7 col14\" >-0.018</td>\n",
       "            </tr>\n",
       "            <tr>\n",
       "                        <th id=\"T_66c036ba_9525_11ea_bc6b_e81132bf5a8flevel0_row8\" class=\"row_heading level0 row8\" >qtd_min_noite</th>\n",
       "                        <td id=\"T_66c036ba_9525_11ea_bc6b_e81132bf5a8frow8_col0\" class=\"data row8 col0\" >-0.014</td>\n",
       "                        <td id=\"T_66c036ba_9525_11ea_bc6b_e81132bf5a8frow8_col1\" class=\"data row8 col1\" >0.0051</td>\n",
       "                        <td id=\"T_66c036ba_9525_11ea_bc6b_e81132bf5a8frow8_col2\" class=\"data row8 col2\" >-0.0057</td>\n",
       "                        <td id=\"T_66c036ba_9525_11ea_bc6b_e81132bf5a8frow8_col3\" class=\"data row8 col3\" >0.019</td>\n",
       "                        <td id=\"T_66c036ba_9525_11ea_bc6b_e81132bf5a8frow8_col4\" class=\"data row8 col4\" >-0.0057</td>\n",
       "                        <td id=\"T_66c036ba_9525_11ea_bc6b_e81132bf5a8frow8_col5\" class=\"data row8 col5\" >-0.013</td>\n",
       "                        <td id=\"T_66c036ba_9525_11ea_bc6b_e81132bf5a8frow8_col6\" class=\"data row8 col6\" >0.0049</td>\n",
       "                        <td id=\"T_66c036ba_9525_11ea_bc6b_e81132bf5a8frow8_col7\" class=\"data row8 col7\" >-0.013</td>\n",
       "                        <td id=\"T_66c036ba_9525_11ea_bc6b_e81132bf5a8frow8_col8\" class=\"data row8 col8\" >1.0</td>\n",
       "                        <td id=\"T_66c036ba_9525_11ea_bc6b_e81132bf5a8frow8_col9\" class=\"data row8 col9\" >0.0086</td>\n",
       "                        <td id=\"T_66c036ba_9525_11ea_bc6b_e81132bf5a8frow8_col10\" class=\"data row8 col10\" >1.0</td>\n",
       "                        <td id=\"T_66c036ba_9525_11ea_bc6b_e81132bf5a8frow8_col11\" class=\"data row8 col11\" >-0.01</td>\n",
       "                        <td id=\"T_66c036ba_9525_11ea_bc6b_e81132bf5a8frow8_col12\" class=\"data row8 col12\" >0.00048</td>\n",
       "                        <td id=\"T_66c036ba_9525_11ea_bc6b_e81132bf5a8frow8_col13\" class=\"data row8 col13\" >-0.01</td>\n",
       "                        <td id=\"T_66c036ba_9525_11ea_bc6b_e81132bf5a8frow8_col14\" class=\"data row8 col14\" >-0.013</td>\n",
       "            </tr>\n",
       "            <tr>\n",
       "                        <th id=\"T_66c036ba_9525_11ea_bc6b_e81132bf5a8flevel0_row9\" class=\"row_heading level0 row9\" >qtd_lig_noite</th>\n",
       "                        <td id=\"T_66c036ba_9525_11ea_bc6b_e81132bf5a8frow9_col0\" class=\"data row9 col0\" >-0.0077</td>\n",
       "                        <td id=\"T_66c036ba_9525_11ea_bc6b_e81132bf5a8frow9_col1\" class=\"data row9 col1\" >0.011</td>\n",
       "                        <td id=\"T_66c036ba_9525_11ea_bc6b_e81132bf5a8frow9_col2\" class=\"data row9 col2\" >0.023</td>\n",
       "                        <td id=\"T_66c036ba_9525_11ea_bc6b_e81132bf5a8frow9_col3\" class=\"data row9 col3\" >-0.018</td>\n",
       "                        <td id=\"T_66c036ba_9525_11ea_bc6b_e81132bf5a8frow9_col4\" class=\"data row9 col4\" >0.023</td>\n",
       "                        <td id=\"T_66c036ba_9525_11ea_bc6b_e81132bf5a8frow9_col5\" class=\"data row9 col5\" >0.0034</td>\n",
       "                        <td id=\"T_66c036ba_9525_11ea_bc6b_e81132bf5a8frow9_col6\" class=\"data row9 col6\" >0.0056</td>\n",
       "                        <td id=\"T_66c036ba_9525_11ea_bc6b_e81132bf5a8frow9_col7\" class=\"data row9 col7\" >0.0034</td>\n",
       "                        <td id=\"T_66c036ba_9525_11ea_bc6b_e81132bf5a8frow9_col8\" class=\"data row9 col8\" >0.0086</td>\n",
       "                        <td id=\"T_66c036ba_9525_11ea_bc6b_e81132bf5a8frow9_col9\" class=\"data row9 col9\" >1.0</td>\n",
       "                        <td id=\"T_66c036ba_9525_11ea_bc6b_e81132bf5a8frow9_col10\" class=\"data row9 col10\" >0.0086</td>\n",
       "                        <td id=\"T_66c036ba_9525_11ea_bc6b_e81132bf5a8frow9_col11\" class=\"data row9 col11\" >-0.0064</td>\n",
       "                        <td id=\"T_66c036ba_9525_11ea_bc6b_e81132bf5a8frow9_col12\" class=\"data row9 col12\" >-0.0031</td>\n",
       "                        <td id=\"T_66c036ba_9525_11ea_bc6b_e81132bf5a8frow9_col13\" class=\"data row9 col13\" >-0.0064</td>\n",
       "                        <td id=\"T_66c036ba_9525_11ea_bc6b_e81132bf5a8frow9_col14\" class=\"data row9 col14\" >-0.0081</td>\n",
       "            </tr>\n",
       "            <tr>\n",
       "                        <th id=\"T_66c036ba_9525_11ea_bc6b_e81132bf5a8flevel0_row10\" class=\"row_heading level0 row10\" >custo_noite</th>\n",
       "                        <td id=\"T_66c036ba_9525_11ea_bc6b_e81132bf5a8frow10_col0\" class=\"data row10 col0\" >-0.014</td>\n",
       "                        <td id=\"T_66c036ba_9525_11ea_bc6b_e81132bf5a8frow10_col1\" class=\"data row10 col1\" >0.005</td>\n",
       "                        <td id=\"T_66c036ba_9525_11ea_bc6b_e81132bf5a8frow10_col2\" class=\"data row10 col2\" >-0.0057</td>\n",
       "                        <td id=\"T_66c036ba_9525_11ea_bc6b_e81132bf5a8frow10_col3\" class=\"data row10 col3\" >0.019</td>\n",
       "                        <td id=\"T_66c036ba_9525_11ea_bc6b_e81132bf5a8frow10_col4\" class=\"data row10 col4\" >-0.0057</td>\n",
       "                        <td id=\"T_66c036ba_9525_11ea_bc6b_e81132bf5a8frow10_col5\" class=\"data row10 col5\" >-0.013</td>\n",
       "                        <td id=\"T_66c036ba_9525_11ea_bc6b_e81132bf5a8frow10_col6\" class=\"data row10 col6\" >0.0049</td>\n",
       "                        <td id=\"T_66c036ba_9525_11ea_bc6b_e81132bf5a8frow10_col7\" class=\"data row10 col7\" >-0.013</td>\n",
       "                        <td id=\"T_66c036ba_9525_11ea_bc6b_e81132bf5a8frow10_col8\" class=\"data row10 col8\" >1.0</td>\n",
       "                        <td id=\"T_66c036ba_9525_11ea_bc6b_e81132bf5a8frow10_col9\" class=\"data row10 col9\" >0.0086</td>\n",
       "                        <td id=\"T_66c036ba_9525_11ea_bc6b_e81132bf5a8frow10_col10\" class=\"data row10 col10\" >1.0</td>\n",
       "                        <td id=\"T_66c036ba_9525_11ea_bc6b_e81132bf5a8frow10_col11\" class=\"data row10 col11\" >-0.01</td>\n",
       "                        <td id=\"T_66c036ba_9525_11ea_bc6b_e81132bf5a8frow10_col12\" class=\"data row10 col12\" >0.00048</td>\n",
       "                        <td id=\"T_66c036ba_9525_11ea_bc6b_e81132bf5a8frow10_col13\" class=\"data row10 col13\" >-0.01</td>\n",
       "                        <td id=\"T_66c036ba_9525_11ea_bc6b_e81132bf5a8frow10_col14\" class=\"data row10 col14\" >-0.013</td>\n",
       "            </tr>\n",
       "            <tr>\n",
       "                        <th id=\"T_66c036ba_9525_11ea_bc6b_e81132bf5a8flevel0_row11\" class=\"row_heading level0 row11\" >minutos_total</th>\n",
       "                        <td id=\"T_66c036ba_9525_11ea_bc6b_e81132bf5a8frow11_col0\" class=\"data row11 col0\" >0.015</td>\n",
       "                        <td id=\"T_66c036ba_9525_11ea_bc6b_e81132bf5a8frow11_col1\" class=\"data row11 col1\" >-0.0016</td>\n",
       "                        <td id=\"T_66c036ba_9525_11ea_bc6b_e81132bf5a8frow11_col2\" class=\"data row11 col2\" >-0.016</td>\n",
       "                        <td id=\"T_66c036ba_9525_11ea_bc6b_e81132bf5a8frow11_col3\" class=\"data row11 col3\" >0.015</td>\n",
       "                        <td id=\"T_66c036ba_9525_11ea_bc6b_e81132bf5a8frow11_col4\" class=\"data row11 col4\" >-0.016</td>\n",
       "                        <td id=\"T_66c036ba_9525_11ea_bc6b_e81132bf5a8frow11_col5\" class=\"data row11 col5\" >-0.0032</td>\n",
       "                        <td id=\"T_66c036ba_9525_11ea_bc6b_e81132bf5a8frow11_col6\" class=\"data row11 col6\" >0.00021</td>\n",
       "                        <td id=\"T_66c036ba_9525_11ea_bc6b_e81132bf5a8frow11_col7\" class=\"data row11 col7\" >-0.0032</td>\n",
       "                        <td id=\"T_66c036ba_9525_11ea_bc6b_e81132bf5a8frow11_col8\" class=\"data row11 col8\" >-0.01</td>\n",
       "                        <td id=\"T_66c036ba_9525_11ea_bc6b_e81132bf5a8frow11_col9\" class=\"data row11 col9\" >-0.0064</td>\n",
       "                        <td id=\"T_66c036ba_9525_11ea_bc6b_e81132bf5a8frow11_col10\" class=\"data row11 col10\" >-0.01</td>\n",
       "                        <td id=\"T_66c036ba_9525_11ea_bc6b_e81132bf5a8frow11_col11\" class=\"data row11 col11\" >1.0</td>\n",
       "                        <td id=\"T_66c036ba_9525_11ea_bc6b_e81132bf5a8frow11_col12\" class=\"data row11 col12\" >0.018</td>\n",
       "                        <td id=\"T_66c036ba_9525_11ea_bc6b_e81132bf5a8frow11_col13\" class=\"data row11 col13\" >1.0</td>\n",
       "                        <td id=\"T_66c036ba_9525_11ea_bc6b_e81132bf5a8frow11_col14\" class=\"data row11 col14\" >-0.017</td>\n",
       "            </tr>\n",
       "            <tr>\n",
       "                        <th id=\"T_66c036ba_9525_11ea_bc6b_e81132bf5a8flevel0_row12\" class=\"row_heading level0 row12\" >lig_total</th>\n",
       "                        <td id=\"T_66c036ba_9525_11ea_bc6b_e81132bf5a8frow12_col0\" class=\"data row12 col0\" >0.027</td>\n",
       "                        <td id=\"T_66c036ba_9525_11ea_bc6b_e81132bf5a8frow12_col1\" class=\"data row12 col1\" >0.0062</td>\n",
       "                        <td id=\"T_66c036ba_9525_11ea_bc6b_e81132bf5a8frow12_col2\" class=\"data row12 col2\" >-0.00029</td>\n",
       "                        <td id=\"T_66c036ba_9525_11ea_bc6b_e81132bf5a8frow12_col3\" class=\"data row12 col3\" >0.0041</td>\n",
       "                        <td id=\"T_66c036ba_9525_11ea_bc6b_e81132bf5a8frow12_col4\" class=\"data row12 col4\" >-0.00029</td>\n",
       "                        <td id=\"T_66c036ba_9525_11ea_bc6b_e81132bf5a8frow12_col5\" class=\"data row12 col5\" >0.014</td>\n",
       "                        <td id=\"T_66c036ba_9525_11ea_bc6b_e81132bf5a8frow12_col6\" class=\"data row12 col6\" >0.015</td>\n",
       "                        <td id=\"T_66c036ba_9525_11ea_bc6b_e81132bf5a8frow12_col7\" class=\"data row12 col7\" >0.014</td>\n",
       "                        <td id=\"T_66c036ba_9525_11ea_bc6b_e81132bf5a8frow12_col8\" class=\"data row12 col8\" >0.00048</td>\n",
       "                        <td id=\"T_66c036ba_9525_11ea_bc6b_e81132bf5a8frow12_col9\" class=\"data row12 col9\" >-0.0031</td>\n",
       "                        <td id=\"T_66c036ba_9525_11ea_bc6b_e81132bf5a8frow12_col10\" class=\"data row12 col10\" >0.00048</td>\n",
       "                        <td id=\"T_66c036ba_9525_11ea_bc6b_e81132bf5a8frow12_col11\" class=\"data row12 col11\" >0.018</td>\n",
       "                        <td id=\"T_66c036ba_9525_11ea_bc6b_e81132bf5a8frow12_col12\" class=\"data row12 col12\" >1.0</td>\n",
       "                        <td id=\"T_66c036ba_9525_11ea_bc6b_e81132bf5a8frow12_col13\" class=\"data row12 col13\" >0.018</td>\n",
       "                        <td id=\"T_66c036ba_9525_11ea_bc6b_e81132bf5a8frow12_col14\" class=\"data row12 col14\" >-0.0006</td>\n",
       "            </tr>\n",
       "            <tr>\n",
       "                        <th id=\"T_66c036ba_9525_11ea_bc6b_e81132bf5a8flevel0_row13\" class=\"row_heading level0 row13\" >custo_total</th>\n",
       "                        <td id=\"T_66c036ba_9525_11ea_bc6b_e81132bf5a8frow13_col0\" class=\"data row13 col0\" >0.015</td>\n",
       "                        <td id=\"T_66c036ba_9525_11ea_bc6b_e81132bf5a8frow13_col1\" class=\"data row13 col1\" >-0.0016</td>\n",
       "                        <td id=\"T_66c036ba_9525_11ea_bc6b_e81132bf5a8frow13_col2\" class=\"data row13 col2\" >-0.016</td>\n",
       "                        <td id=\"T_66c036ba_9525_11ea_bc6b_e81132bf5a8frow13_col3\" class=\"data row13 col3\" >0.015</td>\n",
       "                        <td id=\"T_66c036ba_9525_11ea_bc6b_e81132bf5a8frow13_col4\" class=\"data row13 col4\" >-0.016</td>\n",
       "                        <td id=\"T_66c036ba_9525_11ea_bc6b_e81132bf5a8frow13_col5\" class=\"data row13 col5\" >-0.0032</td>\n",
       "                        <td id=\"T_66c036ba_9525_11ea_bc6b_e81132bf5a8frow13_col6\" class=\"data row13 col6\" >0.00021</td>\n",
       "                        <td id=\"T_66c036ba_9525_11ea_bc6b_e81132bf5a8frow13_col7\" class=\"data row13 col7\" >-0.0032</td>\n",
       "                        <td id=\"T_66c036ba_9525_11ea_bc6b_e81132bf5a8frow13_col8\" class=\"data row13 col8\" >-0.01</td>\n",
       "                        <td id=\"T_66c036ba_9525_11ea_bc6b_e81132bf5a8frow13_col9\" class=\"data row13 col9\" >-0.0064</td>\n",
       "                        <td id=\"T_66c036ba_9525_11ea_bc6b_e81132bf5a8frow13_col10\" class=\"data row13 col10\" >-0.01</td>\n",
       "                        <td id=\"T_66c036ba_9525_11ea_bc6b_e81132bf5a8frow13_col11\" class=\"data row13 col11\" >1.0</td>\n",
       "                        <td id=\"T_66c036ba_9525_11ea_bc6b_e81132bf5a8frow13_col12\" class=\"data row13 col12\" >0.018</td>\n",
       "                        <td id=\"T_66c036ba_9525_11ea_bc6b_e81132bf5a8frow13_col13\" class=\"data row13 col13\" >1.0</td>\n",
       "                        <td id=\"T_66c036ba_9525_11ea_bc6b_e81132bf5a8frow13_col14\" class=\"data row13 col14\" >-0.017</td>\n",
       "            </tr>\n",
       "            <tr>\n",
       "                        <th id=\"T_66c036ba_9525_11ea_bc6b_e81132bf5a8flevel0_row14\" class=\"row_heading level0 row14\" >lig_call_center</th>\n",
       "                        <td id=\"T_66c036ba_9525_11ea_bc6b_e81132bf5a8frow14_col0\" class=\"data row14 col0\" >-0.0059</td>\n",
       "                        <td id=\"T_66c036ba_9525_11ea_bc6b_e81132bf5a8frow14_col1\" class=\"data row14 col1\" >-0.02</td>\n",
       "                        <td id=\"T_66c036ba_9525_11ea_bc6b_e81132bf5a8frow14_col2\" class=\"data row14 col2\" >-0.015</td>\n",
       "                        <td id=\"T_66c036ba_9525_11ea_bc6b_e81132bf5a8frow14_col3\" class=\"data row14 col3\" >-0.021</td>\n",
       "                        <td id=\"T_66c036ba_9525_11ea_bc6b_e81132bf5a8frow14_col4\" class=\"data row14 col4\" >-0.015</td>\n",
       "                        <td id=\"T_66c036ba_9525_11ea_bc6b_e81132bf5a8frow14_col5\" class=\"data row14 col5\" >-0.018</td>\n",
       "                        <td id=\"T_66c036ba_9525_11ea_bc6b_e81132bf5a8frow14_col6\" class=\"data row14 col6\" >0.0027</td>\n",
       "                        <td id=\"T_66c036ba_9525_11ea_bc6b_e81132bf5a8frow14_col7\" class=\"data row14 col7\" >-0.018</td>\n",
       "                        <td id=\"T_66c036ba_9525_11ea_bc6b_e81132bf5a8frow14_col8\" class=\"data row14 col8\" >-0.013</td>\n",
       "                        <td id=\"T_66c036ba_9525_11ea_bc6b_e81132bf5a8frow14_col9\" class=\"data row14 col9\" >-0.0081</td>\n",
       "                        <td id=\"T_66c036ba_9525_11ea_bc6b_e81132bf5a8frow14_col10\" class=\"data row14 col10\" >-0.013</td>\n",
       "                        <td id=\"T_66c036ba_9525_11ea_bc6b_e81132bf5a8frow14_col11\" class=\"data row14 col11\" >-0.017</td>\n",
       "                        <td id=\"T_66c036ba_9525_11ea_bc6b_e81132bf5a8frow14_col12\" class=\"data row14 col12\" >-0.0006</td>\n",
       "                        <td id=\"T_66c036ba_9525_11ea_bc6b_e81132bf5a8frow14_col13\" class=\"data row14 col13\" >-0.017</td>\n",
       "                        <td id=\"T_66c036ba_9525_11ea_bc6b_e81132bf5a8frow14_col14\" class=\"data row14 col14\" >1.0</td>\n",
       "            </tr>\n",
       "    </tbody></table>"
      ],
      "text/plain": [
       "<pandas.io.formats.style.Styler at 0x19bf7aebdc8>"
      ]
     },
     "execution_count": 30,
     "metadata": {},
     "output_type": "execute_result"
    }
   ],
   "source": [
    "treino.corr(method = 'spearman').style.format(\"{:.2}\").background_gradient(cmap=plt.get_cmap(\"coolwarm\"), axis=1)"
   ]
  },
  {
   "cell_type": "code",
   "execution_count": null,
   "metadata": {},
   "outputs": [],
   "source": [
    "# Variáveis com forte relação entre elas quantidade de mensagem VozEmail com plano de voz-email que faz total coerencia \n",
    "# Para enviar tem que ter o plano habilitado\n",
    "# Quantidade de dias de ligação com minutos de ligação que faz total sentido \n",
    "# Segue o mesmmo padrão outras variáveis com forte relação\n",
    "# Entre os dois métodos o gráfico se manteve "
   ]
  },
  {
   "cell_type": "markdown",
   "metadata": {},
   "source": [
    "# Mudancas das categorias YES para 1 e NO para 0 e os Código de Áreas para 0, 1 e 2 "
   ]
  },
  {
   "cell_type": "code",
   "execution_count": 110,
   "metadata": {},
   "outputs": [],
   "source": [
    "mudacategoria(treino)"
   ]
  },
  {
   "cell_type": "markdown",
   "metadata": {},
   "source": [
    "# Correlação da Target com outras variáveis PEARSON"
   ]
  },
  {
   "cell_type": "code",
   "execution_count": 33,
   "metadata": {},
   "outputs": [
    {
     "name": "stdout",
     "output_type": "stream",
     "text": [
      "Relação entre a Variavel Conta\n"
     ]
    },
    {
     "data": {
      "text/html": [
       "<div>\n",
       "<style scoped>\n",
       "    .dataframe tbody tr th:only-of-type {\n",
       "        vertical-align: middle;\n",
       "    }\n",
       "\n",
       "    .dataframe tbody tr th {\n",
       "        vertical-align: top;\n",
       "    }\n",
       "\n",
       "    .dataframe thead th {\n",
       "        text-align: right;\n",
       "    }\n",
       "</style>\n",
       "<table border=\"1\" class=\"dataframe\">\n",
       "  <thead>\n",
       "    <tr style=\"text-align: right;\">\n",
       "      <th></th>\n",
       "      <th>Variavel_Ind</th>\n",
       "      <th>Relacao</th>\n",
       "    </tr>\n",
       "  </thead>\n",
       "  <tbody>\n",
       "    <tr>\n",
       "      <th>2</th>\n",
       "      <td>plano_int</td>\n",
       "      <td>0.259852</td>\n",
       "    </tr>\n",
       "    <tr>\n",
       "      <th>17</th>\n",
       "      <td>lig_call_center</td>\n",
       "      <td>0.208750</td>\n",
       "    </tr>\n",
       "    <tr>\n",
       "      <th>5</th>\n",
       "      <td>qtd_dias_min</td>\n",
       "      <td>0.205151</td>\n",
       "    </tr>\n",
       "    <tr>\n",
       "      <th>7</th>\n",
       "      <td>custo_dia</td>\n",
       "      <td>0.205151</td>\n",
       "    </tr>\n",
       "    <tr>\n",
       "      <th>8</th>\n",
       "      <td>qtd_vesp_min</td>\n",
       "      <td>0.092796</td>\n",
       "    </tr>\n",
       "    <tr>\n",
       "      <th>10</th>\n",
       "      <td>custo_vesp</td>\n",
       "      <td>0.092786</td>\n",
       "    </tr>\n",
       "    <tr>\n",
       "      <th>16</th>\n",
       "      <td>custo_total</td>\n",
       "      <td>0.068259</td>\n",
       "    </tr>\n",
       "    <tr>\n",
       "      <th>14</th>\n",
       "      <td>minutos_total</td>\n",
       "      <td>0.068239</td>\n",
       "    </tr>\n",
       "    <tr>\n",
       "      <th>13</th>\n",
       "      <td>custo_noite</td>\n",
       "      <td>0.035496</td>\n",
       "    </tr>\n",
       "    <tr>\n",
       "      <th>11</th>\n",
       "      <td>qtd_min_noite</td>\n",
       "      <td>0.035493</td>\n",
       "    </tr>\n",
       "    <tr>\n",
       "      <th>6</th>\n",
       "      <td>qtd_dias_lig</td>\n",
       "      <td>0.018459</td>\n",
       "    </tr>\n",
       "    <tr>\n",
       "      <th>0</th>\n",
       "      <td>tempo_conta</td>\n",
       "      <td>0.016541</td>\n",
       "    </tr>\n",
       "    <tr>\n",
       "      <th>9</th>\n",
       "      <td>qtd_vesp_lig</td>\n",
       "      <td>0.009233</td>\n",
       "    </tr>\n",
       "    <tr>\n",
       "      <th>12</th>\n",
       "      <td>qtd_lig_noite</td>\n",
       "      <td>0.006141</td>\n",
       "    </tr>\n",
       "    <tr>\n",
       "      <th>1</th>\n",
       "      <td>cod_area</td>\n",
       "      <td>0.003256</td>\n",
       "    </tr>\n",
       "    <tr>\n",
       "      <th>15</th>\n",
       "      <td>lig_total</td>\n",
       "      <td>-0.052844</td>\n",
       "    </tr>\n",
       "    <tr>\n",
       "      <th>4</th>\n",
       "      <td>qtd_msg_vmail</td>\n",
       "      <td>-0.089728</td>\n",
       "    </tr>\n",
       "    <tr>\n",
       "      <th>3</th>\n",
       "      <td>plano_voz_email</td>\n",
       "      <td>-0.102148</td>\n",
       "    </tr>\n",
       "  </tbody>\n",
       "</table>\n",
       "</div>"
      ],
      "text/plain": [
       "       Variavel_Ind   Relacao\n",
       "2         plano_int  0.259852\n",
       "17  lig_call_center  0.208750\n",
       "5      qtd_dias_min  0.205151\n",
       "7         custo_dia  0.205151\n",
       "8      qtd_vesp_min  0.092796\n",
       "10       custo_vesp  0.092786\n",
       "16      custo_total  0.068259\n",
       "14    minutos_total  0.068239\n",
       "13      custo_noite  0.035496\n",
       "11    qtd_min_noite  0.035493\n",
       "6      qtd_dias_lig  0.018459\n",
       "0       tempo_conta  0.016541\n",
       "9      qtd_vesp_lig  0.009233\n",
       "12    qtd_lig_noite  0.006141\n",
       "1          cod_area  0.003256\n",
       "15        lig_total -0.052844\n",
       "4     qtd_msg_vmail -0.089728\n",
       "3   plano_voz_email -0.102148"
      ]
     },
     "execution_count": 33,
     "metadata": {},
     "output_type": "execute_result"
    }
   ],
   "source": [
    "listvlr = []\n",
    "VarInd  = [\"tempo_conta\", \n",
    "           \"cod_area\", \n",
    "           \"plano_int\", \n",
    "           \"plano_voz_email\", \n",
    "           \"qtd_msg_vmail\", \n",
    "           \"qtd_dias_min\", \n",
    "           \"qtd_dias_lig\", \n",
    "           \"custo_dia\",\n",
    "           \"qtd_vesp_min\",\n",
    "           \"qtd_vesp_lig\",\n",
    "           \"custo_vesp\",\n",
    "           \"qtd_min_noite\",\n",
    "           \"qtd_lig_noite\",\n",
    "           \"custo_noite\",\n",
    "           \"minutos_total\",\n",
    "           \"lig_total\",\n",
    "           \"custo_total\",\n",
    "           \"lig_call_center\"]\n",
    "\n",
    "[Relacao_var(var, \"target\") for var in VarInd]\n",
    "\n",
    "resultado = pd.DataFrame(listvlr, columns=['Variavel_Ind', 'Relacao'])\n",
    "print(\"Relação entre a Variavel Conta\")\n",
    "resultado.sort_values(by = [\"Relacao\"], ascending = False, axis = 0)"
   ]
  },
  {
   "cell_type": "code",
   "execution_count": null,
   "metadata": {},
   "outputs": [],
   "source": [
    "# Essa relação da conta não entendi, a descriçao do campo account_length,\n",
    "# acredito que seja tempo de conta. Se for issso mesmo justifica a relação forte das tres primeiras variaveis "
   ]
  },
  {
   "cell_type": "markdown",
   "metadata": {},
   "source": [
    "# Correlação da Plano Internacional com outras variáveis PEARSON"
   ]
  },
  {
   "cell_type": "code",
   "execution_count": 34,
   "metadata": {},
   "outputs": [
    {
     "name": "stdout",
     "output_type": "stream",
     "text": [
      "Relação entre a Variavel Plano Internacional\n"
     ]
    },
    {
     "data": {
      "text/html": [
       "<div>\n",
       "<style scoped>\n",
       "    .dataframe tbody tr th:only-of-type {\n",
       "        vertical-align: middle;\n",
       "    }\n",
       "\n",
       "    .dataframe tbody tr th {\n",
       "        vertical-align: top;\n",
       "    }\n",
       "\n",
       "    .dataframe thead th {\n",
       "        text-align: right;\n",
       "    }\n",
       "</style>\n",
       "<table border=\"1\" class=\"dataframe\">\n",
       "  <thead>\n",
       "    <tr style=\"text-align: right;\">\n",
       "      <th></th>\n",
       "      <th>Variavel_Ind</th>\n",
       "      <th>Relacao</th>\n",
       "    </tr>\n",
       "  </thead>\n",
       "  <tbody>\n",
       "    <tr>\n",
       "      <th>0</th>\n",
       "      <td>target</td>\n",
       "      <td>0.259852</td>\n",
       "    </tr>\n",
       "    <tr>\n",
       "      <th>7</th>\n",
       "      <td>custo_dia</td>\n",
       "      <td>0.049398</td>\n",
       "    </tr>\n",
       "    <tr>\n",
       "      <th>5</th>\n",
       "      <td>qtd_dias_min</td>\n",
       "      <td>0.049396</td>\n",
       "    </tr>\n",
       "    <tr>\n",
       "      <th>14</th>\n",
       "      <td>minutos_total</td>\n",
       "      <td>0.045871</td>\n",
       "    </tr>\n",
       "    <tr>\n",
       "      <th>16</th>\n",
       "      <td>custo_total</td>\n",
       "      <td>0.045780</td>\n",
       "    </tr>\n",
       "    <tr>\n",
       "      <th>2</th>\n",
       "      <td>cod_area</td>\n",
       "      <td>0.044033</td>\n",
       "    </tr>\n",
       "    <tr>\n",
       "      <th>1</th>\n",
       "      <td>tempo_conta</td>\n",
       "      <td>0.024735</td>\n",
       "    </tr>\n",
       "    <tr>\n",
       "      <th>10</th>\n",
       "      <td>custo_vesp</td>\n",
       "      <td>0.019106</td>\n",
       "    </tr>\n",
       "    <tr>\n",
       "      <th>8</th>\n",
       "      <td>qtd_vesp_min</td>\n",
       "      <td>0.019100</td>\n",
       "    </tr>\n",
       "    <tr>\n",
       "      <th>15</th>\n",
       "      <td>lig_total</td>\n",
       "      <td>0.017366</td>\n",
       "    </tr>\n",
       "    <tr>\n",
       "      <th>12</th>\n",
       "      <td>qtd_lig_noite</td>\n",
       "      <td>0.012451</td>\n",
       "    </tr>\n",
       "    <tr>\n",
       "      <th>4</th>\n",
       "      <td>qtd_msg_vmail</td>\n",
       "      <td>0.008745</td>\n",
       "    </tr>\n",
       "    <tr>\n",
       "      <th>9</th>\n",
       "      <td>qtd_vesp_lig</td>\n",
       "      <td>0.006114</td>\n",
       "    </tr>\n",
       "    <tr>\n",
       "      <th>3</th>\n",
       "      <td>plano_voz_email</td>\n",
       "      <td>0.006006</td>\n",
       "    </tr>\n",
       "    <tr>\n",
       "      <th>6</th>\n",
       "      <td>qtd_dias_lig</td>\n",
       "      <td>0.003755</td>\n",
       "    </tr>\n",
       "    <tr>\n",
       "      <th>17</th>\n",
       "      <td>lig_call_center</td>\n",
       "      <td>-0.024522</td>\n",
       "    </tr>\n",
       "    <tr>\n",
       "      <th>11</th>\n",
       "      <td>qtd_min_noite</td>\n",
       "      <td>-0.028905</td>\n",
       "    </tr>\n",
       "    <tr>\n",
       "      <th>13</th>\n",
       "      <td>custo_noite</td>\n",
       "      <td>-0.028913</td>\n",
       "    </tr>\n",
       "  </tbody>\n",
       "</table>\n",
       "</div>"
      ],
      "text/plain": [
       "       Variavel_Ind   Relacao\n",
       "0            target  0.259852\n",
       "7         custo_dia  0.049398\n",
       "5      qtd_dias_min  0.049396\n",
       "14    minutos_total  0.045871\n",
       "16      custo_total  0.045780\n",
       "2          cod_area  0.044033\n",
       "1       tempo_conta  0.024735\n",
       "10       custo_vesp  0.019106\n",
       "8      qtd_vesp_min  0.019100\n",
       "15        lig_total  0.017366\n",
       "12    qtd_lig_noite  0.012451\n",
       "4     qtd_msg_vmail  0.008745\n",
       "9      qtd_vesp_lig  0.006114\n",
       "3   plano_voz_email  0.006006\n",
       "6      qtd_dias_lig  0.003755\n",
       "17  lig_call_center -0.024522\n",
       "11    qtd_min_noite -0.028905\n",
       "13      custo_noite -0.028913"
      ]
     },
     "execution_count": 34,
     "metadata": {},
     "output_type": "execute_result"
    }
   ],
   "source": [
    "listvlr = []\n",
    "VarInd  = [\"target\",\n",
    "           \"tempo_conta\", \n",
    "           \"cod_area\", \n",
    "           \"plano_voz_email\", \n",
    "           \"qtd_msg_vmail\", \n",
    "           \"qtd_dias_min\", \n",
    "           \"qtd_dias_lig\", \n",
    "           \"custo_dia\",\n",
    "           \"qtd_vesp_min\",\n",
    "           \"qtd_vesp_lig\",\n",
    "           \"custo_vesp\",\n",
    "           \"qtd_min_noite\",\n",
    "           \"qtd_lig_noite\",\n",
    "           \"custo_noite\",\n",
    "           \"minutos_total\",\n",
    "           \"lig_total\",\n",
    "           \"custo_total\",\n",
    "           \"lig_call_center\"]\n",
    "\n",
    "[Relacao_var(var, \"plano_int\") for var in VarInd]\n",
    "\n",
    "resultado = pd.DataFrame(listvlr, columns=['Variavel_Ind', 'Relacao'])\n",
    "print(\"Relação entre a Variavel Plano Internacional\")\n",
    "resultado.sort_values(by = [\"Relacao\"], ascending = False, axis = 0)"
   ]
  },
  {
   "cell_type": "code",
   "execution_count": null,
   "metadata": {},
   "outputs": [],
   "source": [
    "# Nenhuma relação, somente com a target."
   ]
  },
  {
   "cell_type": "markdown",
   "metadata": {},
   "source": [
    "# Verificando a Variável - Target"
   ]
  },
  {
   "cell_type": "code",
   "execution_count": 35,
   "metadata": {},
   "outputs": [
    {
     "data": {
      "text/plain": [
       "target\n",
       "0    2850\n",
       "1     483\n",
       "dtype: int64"
      ]
     },
     "execution_count": 35,
     "metadata": {},
     "output_type": "execute_result"
    }
   ],
   "source": [
    "treino.groupby([\"target\"]).size()"
   ]
  },
  {
   "cell_type": "code",
   "execution_count": 36,
   "metadata": {},
   "outputs": [
    {
     "name": "stdout",
     "output_type": "stream",
     "text": [
      "Class 0: 2850\n",
      "Class 1: 483\n",
      "Proportion: 5.9 : 1\n"
     ]
    },
    {
     "data": {
      "image/png": "[encoded data removed]",
      "text/plain": [
       "<Figure size 432x288 with 1 Axes>"
      ]
     },
     "metadata": {
      "needs_background": "light"
     },
     "output_type": "display_data"
    }
   ],
   "source": [
    "VerTarget(treino)"
   ]
  },
  {
   "cell_type": "code",
   "execution_count": null,
   "metadata": {},
   "outputs": [],
   "source": [
    "# Temos mais a categoria SIM do que NÂO, vamos nivelar para o Algoritimo não aprender mais de uma do que a outra"
   ]
  },
  {
   "cell_type": "markdown",
   "metadata": {},
   "source": [
    "# Avaliação do modelo antes das transformações"
   ]
  },
  {
   "cell_type": "code",
   "execution_count": 37,
   "metadata": {},
   "outputs": [],
   "source": [
    "resultado_modelo = []"
   ]
  },
  {
   "cell_type": "markdown",
   "metadata": {},
   "source": [
    "# Antes das Transformações"
   ]
  },
  {
   "cell_type": "code",
   "execution_count": 38,
   "metadata": {},
   "outputs": [],
   "source": [
    "X1 = treino.drop(['target', \"estado\"], axis=1)\n",
    "y1 = treino['target']\n",
    "X1_train, X1_test, y1_train, y1_test = train_test_split(X1, y1, test_size=0.70, random_state=0)"
   ]
  },
  {
   "cell_type": "markdown",
   "metadata": {},
   "source": [
    "# Antes das transformações"
   ]
  },
  {
   "cell_type": "code",
   "execution_count": 39,
   "metadata": {},
   "outputs": [
    {
     "name": "stdout",
     "output_type": "stream",
     "text": [
      "LR: 0.849373 (0.022773)\n",
      "LDA: 0.853572 (0.019927)\n",
      "NB: 0.864686 (0.014736)\n",
      "KNN: 0.877270 (0.023727)\n",
      "CART: 0.918692 (0.010939)\n",
      "SVM: 0.855970 (0.027292)\n",
      "ADA: 0.874583 (0.017782)\n",
      "GBM: 0.953498 (0.011717)\n",
      "RF: 0.952899 (0.014635)\n",
      "XGB: 0.952896 (0.011074)\n"
     ]
    }
   ],
   "source": [
    "Resp_modelos = avaliamodelo(X1, y1)"
   ]
  },
  {
   "cell_type": "markdown",
   "metadata": {},
   "source": [
    "# Grava Resultado Antes das Transformações Para Gerar Gráfico"
   ]
  },
  {
   "cell_type": "code",
   "execution_count": 40,
   "metadata": {},
   "outputs": [],
   "source": [
    "resultado_modelo = pd.DataFrame(Resp_modelos[0], columns=['Modelo'])\n",
    "resultado_modelo[\"Sem_Scala\"] = Resp_modelos[1]"
   ]
  },
  {
   "cell_type": "markdown",
   "metadata": {},
   "source": [
    "# Transformações "
   ]
  },
  {
   "cell_type": "markdown",
   "metadata": {},
   "source": [
    "# Nivelando a Target"
   ]
  },
  {
   "cell_type": "markdown",
   "metadata": {},
   "source": [
    "# Usando o over-fiting para Nivelar a Target"
   ]
  },
  {
   "cell_type": "code",
   "execution_count": 41,
   "metadata": {},
   "outputs": [
    {
     "name": "stdout",
     "output_type": "stream",
     "text": [
      "Random over-sampling:\n",
      "1    2850\n",
      "0    2850\n",
      "Name: target, dtype: int64\n"
     ]
    },
    {
     "data": {
      "image/png": "[encoded data removed]",
      "text/plain": [
       "<Figure size 432x288 with 1 Axes>"
      ]
     },
     "metadata": {
      "needs_background": "light"
     },
     "output_type": "display_data"
    }
   ],
   "source": [
    "df_over = oversamplig(treino)"
   ]
  },
  {
   "cell_type": "markdown",
   "metadata": {},
   "source": [
    "# Scalando as Variáveis"
   ]
  },
  {
   "cell_type": "markdown",
   "metadata": {},
   "source": [
    "# Scala e  Grava as escalas no Dataframe"
   ]
  },
  {
   "cell_type": "code",
   "execution_count": 47,
   "metadata": {},
   "outputs": [],
   "source": [
    "# Grava as Escalas no DataFrame treino\n",
    "Col_Scala = ScalaVariaveis(df_over)\n",
    "x = [imputaScala(nrlinha, Col_Scala[nrlinha], df_over) for nrlinha in range(len(Col_Scala))]"
   ]
  },
  {
   "cell_type": "markdown",
   "metadata": {},
   "source": [
    "# Grava Modelo com Variáveis Alteradas para Gerar o Gráfico"
   ]
  },
  {
   "cell_type": "code",
   "execution_count": 50,
   "metadata": {},
   "outputs": [],
   "source": [
    "XT = df_over.drop(['target', \"estado\"], axis=1)\n",
    "yT = df_over['target']\n",
    "XT_train, XT_test, yT_train, yT_test = train_test_split(X1, y1, test_size=0.70, random_state=0)"
   ]
  },
  {
   "cell_type": "code",
   "execution_count": 51,
   "metadata": {},
   "outputs": [
    {
     "name": "stdout",
     "output_type": "stream",
     "text": [
      "LR: 0.654912 (0.016681)\n",
      "LDA: 0.657368 (0.011691)\n",
      "NB: 0.713860 (0.031447)\n",
      "KNN: 0.835614 (0.096009)\n",
      "CART: 0.970877 (0.027249)\n",
      "SVM: 0.669825 (0.192237)\n",
      "ADA: 0.804211 (0.024589)\n",
      "GBM: 0.902281 (0.032407)\n",
      "RF: 0.990877 (0.007759)\n",
      "XGB: 0.897193 (0.037955)\n"
     ]
    }
   ],
   "source": [
    "Resp_modelos = avaliamodelo(XT, yT)\n",
    "resultado_modelo[\"Com_Scala\"] = Resp_modelos[1]"
   ]
  },
  {
   "cell_type": "markdown",
   "metadata": {},
   "source": [
    "# Gráfico Comparativos dos Modelos com e sem scala"
   ]
  },
  {
   "cell_type": "code",
   "execution_count": 52,
   "metadata": {},
   "outputs": [
    {
     "data": {
      "text/plain": [
       "<matplotlib.axes._subplots.AxesSubplot at 0x19bf7b73c48>"
      ]
     },
     "execution_count": 52,
     "metadata": {},
     "output_type": "execute_result"
    },
    {
     "data": {
      "image/png": "[encoded data removed]",
      "text/plain": [
       "<Figure size 864x504 with 1 Axes>"
      ]
     },
     "metadata": {
      "needs_background": "light"
     },
     "output_type": "display_data"
    }
   ],
   "source": [
    "resultado_modelo.plot(kind='bar', x = \"Modelo\", figsize = (12,7), \n",
    "                      title='Avaliação dos Modelos COM e SEM Scala' ,color = ['green', '#FF7F0E'])"
   ]
  },
  {
   "cell_type": "code",
   "execution_count": null,
   "metadata": {},
   "outputs": [],
   "source": [
    "# A regressão Linear após a SCALA teve uma performance menor significativa"
   ]
  },
  {
   "cell_type": "code",
   "execution_count": null,
   "metadata": {},
   "outputs": [],
   "source": [
    "# Após Scalar as variáveis tivemos uma piora para alguns modelos, melhora em dois mmodelos(CART E RF)"
   ]
  },
  {
   "cell_type": "markdown",
   "metadata": {},
   "source": [
    "# Features Selection "
   ]
  },
  {
   "cell_type": "markdown",
   "metadata": {},
   "source": [
    "# Seleção das Features - RANDOM FLOREST"
   ]
  },
  {
   "cell_type": "code",
   "execution_count": 53,
   "metadata": {},
   "outputs": [],
   "source": [
    "df_selecao = pd.DataFrame(columns = colunas)\n",
    "df_selecao.drop([\"ID\", \"estado\", \"target\"], axis=1, inplace=True)"
   ]
  },
  {
   "cell_type": "code",
   "execution_count": 54,
   "metadata": {},
   "outputs": [
    {
     "data": {
      "text/plain": [
       "RandomForestClassifier(bootstrap=True, ccp_alpha=0.0, class_weight=None,\n",
       "                       criterion='gini', max_depth=None, max_features='auto',\n",
       "                       max_leaf_nodes=None, max_samples=None,\n",
       "                       min_impurity_decrease=0.0, min_impurity_split=None,\n",
       "                       min_samples_leaf=1, min_samples_split=2,\n",
       "                       min_weight_fraction_leaf=0.0, n_estimators=10,\n",
       "                       n_jobs=None, oob_score=False, random_state=None,\n",
       "                       verbose=0, warm_start=False)"
      ]
     },
     "execution_count": 54,
     "metadata": {},
     "output_type": "execute_result"
    }
   ],
   "source": [
    "# feature extraction\n",
    "model = RandomForestClassifier(n_estimators=10)\n",
    "model.fit(X1, y1)"
   ]
  },
  {
   "cell_type": "code",
   "execution_count": 55,
   "metadata": {},
   "outputs": [],
   "source": [
    "feature_importances = pd.DataFrame(model.feature_importances_,\n",
    "                                   index = X1.columns,\n",
    "                                   columns=['IMPORTANCIA']).sort_values('IMPORTANCIA', ascending=False)"
   ]
  },
  {
   "cell_type": "code",
   "execution_count": 56,
   "metadata": {},
   "outputs": [],
   "source": [
    "new_row = {\"tempo_conta\" : \"NaN\"}\n",
    "df_selecao = df_selecao.append(new_row, ignore_index=True)\n",
    "x  = [imputaSelecao(feature_importances.index[i], feature_importances[\"IMPORTANCIA\"][i], len(df_selecao) - 1) for i in range(len(feature_importances))]"
   ]
  },
  {
   "cell_type": "markdown",
   "metadata": {},
   "source": [
    "# Seleção das Features - MUTUAL"
   ]
  },
  {
   "cell_type": "code",
   "execution_count": 57,
   "metadata": {},
   "outputs": [],
   "source": [
    "mi = mutual_info_classif(X1_train, y1_train)\n",
    "mi1 = pd.DataFrame(columns =  [\"CAMPO\",\"IMPORTANCIA\"])\n",
    "mi1[\"CAMPO\"] = X1_train.columns\n",
    "mi1[\"IMPORTANCIA\"] = pd.Series(mi)"
   ]
  },
  {
   "cell_type": "code",
   "execution_count": 58,
   "metadata": {},
   "outputs": [],
   "source": [
    "new_row = {\"tempo_conta\" : \"99999\"}\n",
    "df_selecao = df_selecao.append(new_row, ignore_index=True)\n",
    "x  = [imputaSelecao(mi1[\"CAMPO\"][i], mi1[\"IMPORTANCIA\"][i], len(df_selecao) - 1) for i in range(len(mi1))]"
   ]
  },
  {
   "cell_type": "markdown",
   "metadata": {},
   "source": [
    "# Seleção - Método: SelectKBest "
   ]
  },
  {
   "cell_type": "code",
   "execution_count": 59,
   "metadata": {},
   "outputs": [],
   "source": [
    "bestfeatures = SelectKBest(score_func=chi2, k=18)\n",
    "fit = bestfeatures.fit(X1,y1)\n",
    "dfscores = pd.DataFrame(fit.scores_)\n",
    "dfcolumns = pd.DataFrame(X1.columns)\n",
    "#concat two dataframes for better visualization \n",
    "\n",
    "scaler = QuantileTransformer()\n",
    "colScala = pd.DataFrame(scaler.fit_transform(dfscores))\n",
    "\n",
    "featureScores = pd.concat([dfcolumns,colScala],axis=1)\n",
    "featureScores.columns = ['Specs','Score']  #naming the dataframe columns"
   ]
  },
  {
   "cell_type": "code",
   "execution_count": 60,
   "metadata": {},
   "outputs": [],
   "source": [
    "new_row = {\"tempo_conta\" : \"NaN\"}\n",
    "df_selecao = df_selecao.append(new_row, ignore_index=True)\n",
    "x  = [imputaSelecao(featureScores[\"Specs\"][i], featureScores[\"Score\"][i], len(df_selecao) - 1) for i in range(len(featureScores))]"
   ]
  },
  {
   "cell_type": "markdown",
   "metadata": {},
   "source": [
    "# Seleção - Método: ExtraTreesClassifier "
   ]
  },
  {
   "cell_type": "code",
   "execution_count": 61,
   "metadata": {},
   "outputs": [],
   "source": [
    "model = ExtraTreesClassifier()\n",
    "model.fit(X1,y1)\n",
    "dfscores = pd.DataFrame(model.feature_importances_)\n",
    "dfcolumns = pd.DataFrame(X1.columns)\n",
    "#concat two dataframes for better visualization \n",
    "featureScores = pd.concat([dfcolumns,dfscores],axis=1)\n",
    "featureScores.columns = ['Specs','Score'] "
   ]
  },
  {
   "cell_type": "code",
   "execution_count": 62,
   "metadata": {},
   "outputs": [],
   "source": [
    "new_row = {\"tempo_conta\" : \"NaN\"}\n",
    "df_selecao = df_selecao.append(new_row, ignore_index=True)\n",
    "x  = [imputaSelecao(featureScores[\"Specs\"][i], featureScores[\"Score\"][i], len(df_selecao) - 1) for i in range(len(featureScores))]"
   ]
  },
  {
   "cell_type": "markdown",
   "metadata": {},
   "source": [
    "# Gráfico com a media Dos modelos FeatureSelection"
   ]
  },
  {
   "cell_type": "code",
   "execution_count": 63,
   "metadata": {},
   "outputs": [
    {
     "data": {
      "text/plain": [
       "<matplotlib.axes._subplots.AxesSubplot at 0x19bf796c408>"
      ]
     },
     "execution_count": 63,
     "metadata": {},
     "output_type": "execute_result"
    },
    {
     "data": {
      "image/png": "[encoded data removed]",
      "text/plain": [
       "<Figure size 864x504 with 1 Axes>"
      ]
     },
     "metadata": {
      "needs_background": "light"
     },
     "output_type": "display_data"
    }
   ],
   "source": [
    "Media_Scores  = df_selecao.median().sort_values(ascending = False)\n",
    "\n",
    "Media_Scores.plot(kind='bar',  figsize = (12,7), \n",
    "                      title='Avaliação Das Feautures Selection (Media)' ,color = ['green', '#FF7F0E', \"red\", \"yellow\"])"
   ]
  },
  {
   "cell_type": "code",
   "execution_count": null,
   "metadata": {},
   "outputs": [],
   "source": [
    "# Analisando as médias, as melhores variaveis estão correspondendo com o Graficos de Mapa de Calor"
   ]
  },
  {
   "cell_type": "markdown",
   "metadata": {},
   "source": [
    "# Modelo de Treino"
   ]
  },
  {
   "cell_type": "markdown",
   "metadata": {},
   "source": [
    "# Sem Transformações"
   ]
  },
  {
   "cell_type": "code",
   "execution_count": 111,
   "metadata": {},
   "outputs": [
    {
     "name": "stdout",
     "output_type": "stream",
     "text": [
      "LogisticRegression:\n",
      "\tBrier: 0.108\n",
      "\tPrecision: 0.475\n",
      "\tRecall: 0.141\n",
      "\tF1: 0.218\n",
      "\n"
     ]
    }
   ],
   "source": [
    "X = treino[Media_Scores.index[0:11]]\n",
    "y = treino['target']\n",
    "X_train, X_test, y_train, y_test = train_test_split(X, y, test_size=0.70, random_state=0)\n",
    "predS = avaliaModeloLR(X_train, X_test, y_train, y_test)"
   ]
  },
  {
   "cell_type": "markdown",
   "metadata": {},
   "source": [
    "# Matrix de Confusão Sem Transformação "
   ]
  },
  {
   "cell_type": "code",
   "execution_count": 112,
   "metadata": {
    "scrolled": true
   },
   "outputs": [
    {
     "name": "stdout",
     "output_type": "stream",
     "text": [
      "              precision    recall  f1-score   support\n",
      "\n",
      "          NO       0.87      0.97      0.92      2001\n",
      "         YES       0.47      0.14      0.22       333\n",
      "\n",
      "    accuracy                           0.86      2334\n",
      "   macro avg       0.67      0.56      0.57      2334\n",
      "weighted avg       0.82      0.86      0.82      2334\n",
      "\n"
     ]
    },
    {
     "data": {
      "image/png": "[encoded data removed]",
      "text/plain": [
       "<Figure size 432x288 with 2 Axes>"
      ]
     },
     "metadata": {
      "needs_background": "light"
     },
     "output_type": "display_data"
    }
   ],
   "source": [
    "MatrixConfusiion(y_test, predS[0])"
   ]
  },
  {
   "cell_type": "code",
   "execution_count": null,
   "metadata": {},
   "outputs": [],
   "source": [
    "# Sem as Transformações o modelo errou mais em YES e acertou mais em NO"
   ]
  },
  {
   "cell_type": "markdown",
   "metadata": {},
   "source": [
    "# Com Transformação"
   ]
  },
  {
   "cell_type": "code",
   "execution_count": 122,
   "metadata": {},
   "outputs": [
    {
     "name": "stdout",
     "output_type": "stream",
     "text": [
      "LogisticRegression:\n",
      "\tBrier: 0.189\n",
      "\tPrecision: 0.726\n",
      "\tRecall: 0.714\n",
      "\tF1: 0.720\n",
      "\n"
     ]
    }
   ],
   "source": [
    "X1 = df_over[Media_Scores.index[0:10]]\n",
    "y1 = df_over['target']\n",
    "X1_train, X1_test, y1_train, y1_test = train_test_split(X1, y1, test_size=0.70, random_state=0)\n",
    "predCT = avaliaModeloLR(X1_train, X1_test, y1_train, y1_test)"
   ]
  },
  {
   "cell_type": "markdown",
   "metadata": {},
   "source": [
    "# Matrix de Confusão Com Transformação "
   ]
  },
  {
   "cell_type": "code",
   "execution_count": 123,
   "metadata": {},
   "outputs": [
    {
     "name": "stdout",
     "output_type": "stream",
     "text": [
      "              precision    recall  f1-score   support\n",
      "\n",
      "          NO       0.72      0.74      0.73      2013\n",
      "         YES       0.73      0.71      0.72      1977\n",
      "\n",
      "    accuracy                           0.72      3990\n",
      "   macro avg       0.72      0.72      0.72      3990\n",
      "weighted avg       0.72      0.72      0.72      3990\n",
      "\n"
     ]
    },
    {
     "data": {
      "image/png": "[encoded data removed]",
      "text/plain": [
       "<Figure size 432x288 with 2 Axes>"
      ]
     },
     "metadata": {
      "needs_background": "light"
     },
     "output_type": "display_data"
    }
   ],
   "source": [
    "MatrixConfusiion(y1_test, predCT[0])"
   ]
  },
  {
   "cell_type": "code",
   "execution_count": null,
   "metadata": {},
   "outputs": [],
   "source": [
    "# Após a SCALA tivemos uma melhora no Modelo acertando mais as TARGET\n",
    "# Aumentando ou reduzindo a quantidade de variáveis não tivemos melhora, a melhor composição foi essa"
   ]
  },
  {
   "cell_type": "markdown",
   "metadata": {},
   "source": [
    "# Testar o Modelo com a Base de Teste"
   ]
  },
  {
   "cell_type": "markdown",
   "metadata": {},
   "source": [
    "# Transformando Dados da Base de Teste"
   ]
  },
  {
   "cell_type": "code",
   "execution_count": 72,
   "metadata": {},
   "outputs": [
    {
     "name": "stdout",
     "output_type": "stream",
     "text": [
      "Class 0: 1443\n",
      "Class 1: 224\n",
      "Proportion: 6.44 : 1\n"
     ]
    },
    {
     "data": {
      "image/png": "[encoded data removed]",
      "text/plain": [
       "<Figure size 432x288 with 1 Axes>"
      ]
     },
     "metadata": {
      "needs_background": "light"
     },
     "output_type": "display_data"
    }
   ],
   "source": [
    "VerTarget(teste)"
   ]
  },
  {
   "cell_type": "code",
   "execution_count": 85,
   "metadata": {},
   "outputs": [],
   "source": [
    "teste.drop([\"ID\"], axis=1, inplace=True)"
   ]
  },
  {
   "cell_type": "code",
   "execution_count": 89,
   "metadata": {},
   "outputs": [],
   "source": [
    "mudacategoria(teste)"
   ]
  },
  {
   "cell_type": "code",
   "execution_count": 90,
   "metadata": {},
   "outputs": [
    {
     "name": "stdout",
     "output_type": "stream",
     "text": [
      "Random over-sampling:\n",
      "1    1443\n",
      "0    1443\n",
      "Name: target, dtype: int64\n"
     ]
    },
    {
     "data": {
      "image/png": "[encoded data removed]",
      "text/plain": [
       "<Figure size 432x288 with 1 Axes>"
      ]
     },
     "metadata": {
      "needs_background": "light"
     },
     "output_type": "display_data"
    }
   ],
   "source": [
    "Over_teste = oversamplig(teste)"
   ]
  },
  {
   "cell_type": "code",
   "execution_count": 137,
   "metadata": {},
   "outputs": [],
   "source": [
    "Col_Scala_teste = ScalaVariaveis(Over_teste)\n",
    "x = [imputaScala(nrlinha, Col_Scala_teste[nrlinha], Over_teste) for nrlinha in range(len(Col_Scala_teste))]"
   ]
  },
  {
   "cell_type": "code",
   "execution_count": 138,
   "metadata": {},
   "outputs": [
    {
     "name": "stdout",
     "output_type": "stream",
     "text": [
      "LogisticRegression:\n",
      "\tBrier: 0.180\n",
      "\tPrecision: 0.735\n",
      "\tRecall: 0.714\n",
      "\tF1: 0.725\n",
      "\n"
     ]
    }
   ],
   "source": [
    "X1 = Over_teste[Media_Scores.index[0:10]]\n",
    "y1 = Over_teste['target']\n",
    "X1_train, X1_test, y1_train, y1_test = train_test_split(X1, y1, test_size=0.70, random_state=0)\n",
    "predCT_teste = avaliaModeloLR(X1_train, X1_test, y1_train, y1_test)"
   ]
  },
  {
   "cell_type": "code",
   "execution_count": 140,
   "metadata": {},
   "outputs": [
    {
     "name": "stdout",
     "output_type": "stream",
     "text": [
      "              precision    recall  f1-score   support\n",
      "\n",
      "          NO       0.72      0.74      0.73      1013\n",
      "         YES       0.74      0.71      0.72      1008\n",
      "\n",
      "    accuracy                           0.73      2021\n",
      "   macro avg       0.73      0.73      0.73      2021\n",
      "weighted avg       0.73      0.73      0.73      2021\n",
      "\n"
     ]
    },
    {
     "data": {
      "image/png": "[encoded data removed]",
      "text/plain": [
       "<Figure size 432x288 with 2 Axes>"
      ]
     },
     "metadata": {
      "needs_background": "light"
     },
     "output_type": "display_data"
    }
   ],
   "source": [
    "MatrixConfusiion(y1_test, predCT_teste[0])"
   ]
  },
  {
   "cell_type": "code",
   "execution_count": 141,
   "metadata": {},
   "outputs": [
    {
     "data": {
      "text/html": [
       "<div>\n",
       "<style scoped>\n",
       "    .dataframe tbody tr th:only-of-type {\n",
       "        vertical-align: middle;\n",
       "    }\n",
       "\n",
       "    .dataframe tbody tr th {\n",
       "        vertical-align: top;\n",
       "    }\n",
       "\n",
       "    .dataframe thead th {\n",
       "        text-align: right;\n",
       "    }\n",
       "</style>\n",
       "<table border=\"1\" class=\"dataframe\">\n",
       "  <thead>\n",
       "    <tr style=\"text-align: right;\">\n",
       "      <th></th>\n",
       "      <th>NO</th>\n",
       "      <th>YES</th>\n",
       "    </tr>\n",
       "  </thead>\n",
       "  <tbody>\n",
       "    <tr>\n",
       "      <th>0</th>\n",
       "      <td>61.722911</td>\n",
       "      <td>38.277089</td>\n",
       "    </tr>\n",
       "    <tr>\n",
       "      <th>1</th>\n",
       "      <td>57.073590</td>\n",
       "      <td>42.926410</td>\n",
       "    </tr>\n",
       "    <tr>\n",
       "      <th>2</th>\n",
       "      <td>29.966629</td>\n",
       "      <td>70.033371</td>\n",
       "    </tr>\n",
       "    <tr>\n",
       "      <th>3</th>\n",
       "      <td>38.849817</td>\n",
       "      <td>61.150183</td>\n",
       "    </tr>\n",
       "    <tr>\n",
       "      <th>4</th>\n",
       "      <td>64.862531</td>\n",
       "      <td>35.137469</td>\n",
       "    </tr>\n",
       "    <tr>\n",
       "      <th>...</th>\n",
       "      <td>...</td>\n",
       "      <td>...</td>\n",
       "    </tr>\n",
       "    <tr>\n",
       "      <th>2016</th>\n",
       "      <td>53.635510</td>\n",
       "      <td>46.364490</td>\n",
       "    </tr>\n",
       "    <tr>\n",
       "      <th>2017</th>\n",
       "      <td>66.825574</td>\n",
       "      <td>33.174426</td>\n",
       "    </tr>\n",
       "    <tr>\n",
       "      <th>2018</th>\n",
       "      <td>93.561166</td>\n",
       "      <td>6.438834</td>\n",
       "    </tr>\n",
       "    <tr>\n",
       "      <th>2019</th>\n",
       "      <td>69.178932</td>\n",
       "      <td>30.821068</td>\n",
       "    </tr>\n",
       "    <tr>\n",
       "      <th>2020</th>\n",
       "      <td>83.216199</td>\n",
       "      <td>16.783801</td>\n",
       "    </tr>\n",
       "  </tbody>\n",
       "</table>\n",
       "<p>2021 rows × 2 columns</p>\n",
       "</div>"
      ],
      "text/plain": [
       "             NO        YES\n",
       "0     61.722911  38.277089\n",
       "1     57.073590  42.926410\n",
       "2     29.966629  70.033371\n",
       "3     38.849817  61.150183\n",
       "4     64.862531  35.137469\n",
       "...         ...        ...\n",
       "2016  53.635510  46.364490\n",
       "2017  66.825574  33.174426\n",
       "2018  93.561166   6.438834\n",
       "2019  69.178932  30.821068\n",
       "2020  83.216199  16.783801\n",
       "\n",
       "[2021 rows x 2 columns]"
      ]
     },
     "execution_count": 141,
     "metadata": {},
     "output_type": "execute_result"
    }
   ],
   "source": [
    "probabilidade = pd.DataFrame(predCT_teste[1] * 100, columns=['NO', 'YES'])\n",
    "probabilidade"
   ]
  }
 ],
 "metadata": {
  "kernelspec": {
   "display_name": "Python 3",
   "language": "python",
   "name": "python3"
  },
  "language_info": {
   "codemirror_mode": {
    "name": "ipython",
    "version": 3
   },
   "file_extension": ".py",
   "mimetype": "text/x-python",
   "name": "python",
   "nbconvert_exporter": "python",
   "pygments_lexer": "ipython3",
   "version": "3.7.6"
  }
 },
 "nbformat": 4,
 "nbformat_minor": 4
}
